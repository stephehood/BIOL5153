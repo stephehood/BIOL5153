{
 "cells": [
  {
   "cell_type": "code",
   "execution_count": 2,
   "metadata": {},
   "outputs": [],
   "source": [
    "#Regular Expressions\n",
    "# Modules in Python- each collection of specalized toopls, or really just a collection of specialized functions and data types is called a module\n",
    "# need to explicitly load each module of specilaized tools that we want to use inside our program\n",
    "# To load a module use the 'import' statement\n",
    "# regular expressions module = 're'\n",
    "import re\n",
    "#re.search(pattern, string)\n"
   ]
  },
  {
   "cell_type": "code",
   "execution_count": 3,
   "metadata": {},
   "outputs": [
    {
     "name": "stdout",
     "output_type": "stream",
     "text": [
      "\\t\\n\n"
     ]
    }
   ],
   "source": [
    "# Raw Strings\n",
    "# we will need a lot of special characters to write regular expressions\n",
    "# \\n means 'start a new line' \\t means 'insert a tab'\n",
    "# if we put the letter 'r' immediately before the opening uote than any special charaters in the string will be ignored\n",
    "print(r\"\\t\\n\")\n",
    "# r stands for 'raw', 'r' goes outside the quotes"
   ]
  },
  {
   "cell_type": "code",
   "execution_count": 4,
   "metadata": {},
   "outputs": [
    {
     "name": "stdout",
     "output_type": "stream",
     "text": [
      "restriction site found!\n"
     ]
    }
   ],
   "source": [
    "# Searching for a pattern in a string\n",
    "# re. seach is a true/false function\n",
    "# search for the EcoRI restriction site:\n",
    "dna = \"ATCGCGAATTCAC\"\n",
    "if re.search(r\"GAATTC\", dna):\n",
    "    print(\"restriction site found!\")"
   ]
  },
  {
   "cell_type": "code",
   "execution_count": 7,
   "metadata": {},
   "outputs": [],
   "source": [
    "#Alternation\n",
    "# Avall restriction site ahs two different motifs: GGACC and GGTCC\n",
    "\n",
    "dna = \"ATCGCGAATTCAC\"\n",
    "if re.search(r\"GGACC\", dna) or re.search(r\"GGTCC\", dna):\n",
    "    print(\"restriction site found!\")\n",
    "# capture the variation in the AvaII site using a regular expression\n",
    "dna = \"ATCGCGAATTCAC\"\n",
    "if re.search(r\"GG(A|T)CC\", dna):\n",
    "    print(\"restriction site found!\")\n",
    "# above we use an alteration feature of regular expressions, inside the parentheses we write the alternatives separated by a pipe character so it means either/or"
   ]
  },
  {
   "cell_type": "code",
   "execution_count": 8,
   "metadata": {},
   "outputs": [],
   "source": [
    "# Character groups\n",
    "dna = \"ATCGCGAATTCAC\"\n",
    "if re.search(r\"GC(A|T|G|C)GC\", dna):\n",
    "    print(\"restriction site found!\")\n",
    "# you can use alterations or you can use square brackets\n",
    "dna = \"ATCGCGAATTCAC\"\n",
    "if re.search(r\"GC[ATGC]GC\", dna):\n",
    "    print(\"restriction site found!\")\n",
    "# if we want a character in a pattern to match any character in the input, we can use a period\n",
    "# however, periods will also match characters which aren't DNA bases\n",
    "#sometimes it is easier to specify wich characters we don't want by using a caret ^ "
   ]
  },
  {
   "cell_type": "code",
   "execution_count": 9,
   "metadata": {},
   "outputs": [],
   "source": [
    "# Quantifiers - let us descripbe variation in the number of times a section of a pattern is repeated\n",
    "# ? immediately following a character means that that character is optional and can be there one or zero times\n",
    "# to apply the question mark to multiple characters, we can put those characters in parantheses\n",
    "# a plus sign  + immediately following a group of characters means that the character or group must be present but can be repeated any number of times - one or more\n",
    "# an asterisk immediately following a character or group means thatthe character or group is optional\n",
    "# If we want to specify a specific number of repeats, we can use {} \n",
    "# a single number GA{5}T will match GAAAAAAT but not GAAT \n",
    "# A pair of numbers will match inclusively GA{2,4}T, GAAT, GAAAT, and GAAAAT\n"
   ]
  },
  {
   "cell_type": "code",
   "execution_count": 10,
   "metadata": {},
   "outputs": [],
   "source": [
    "# Positions\n",
    "# Represent postions in a string\n",
    "# a caret ^ matches the start of a string, and a $ matches the end of a string\n",
    "# ^AAA, means the string starts with AAA, and GGG$ means the string ends with GGG"
   ]
  },
  {
   "cell_type": "code",
   "execution_count": 11,
   "metadata": {},
   "outputs": [],
   "source": [
    "#Combining\n",
    "#We can use different quantifiers together with alterations and characters to specify very flexible patterns\n",
    "# example - identify full-length eukaryotic messenger RNA sequences:\n",
    "\n",
    "#^ATG[ATGC]{30,1000}A{5,10}$\n",
    "# re.seacch will identify a pattern occuring 'anywhere' in the string\n",
    "# re.match will only identify a pattern if it matches the 'entire' string"
   ]
  },
  {
   "cell_type": "code",
   "execution_count": 12,
   "metadata": {},
   "outputs": [
    {
     "name": "stdout",
     "output_type": "stream",
     "text": [
      "GACGTAC\n"
     ]
    }
   ],
   "source": [
    "#Extracting the part of the string that matched\n",
    "#often in our programs we want to find out if a pattern matches and what part \n",
    "# need to store the results using re.search, then use the 'group' method on the resulting object\n",
    "# Group method- results of a regular expression where the portion of the input string matches a pattern\n",
    "dna = \"ATGACGTACGTACGACTG\"\n",
    "# store the match object in the variable m \n",
    "m = re.search(r\"GA[ATGC]{3}AC\", dna)\n",
    "print(m.group())"
   ]
  },
  {
   "cell_type": "code",
   "execution_count": 13,
   "metadata": {},
   "outputs": [
    {
     "name": "stdout",
     "output_type": "stream",
     "text": [
      "entire match: GACGTACGTAC\n",
      "first bit: CGT\n",
      "second bit: GT\n"
     ]
    }
   ],
   "source": [
    "dna = \"ATGACGTACGTACGACTG\"\n",
    "# store the match object in the variable m \n",
    "m = re.search(r\"GA([ATGC]{3})AC([ATGC]{2})AC\", dna)\n",
    "print(\"entire match: \" + m.group())\n",
    "print(\"first bit: \" + m.group(1))\n",
    "print(\"second bit: \" + m.group(2))"
   ]
  },
  {
   "cell_type": "code",
   "execution_count": 14,
   "metadata": {},
   "outputs": [
    {
     "name": "stdout",
     "output_type": "stream",
     "text": [
      "start: 2\n",
      "end: 13\n"
     ]
    }
   ],
   "source": [
    "#Getting the position of a match\n",
    "# remember we start counting from zero, so in this case, the match starting at the 3rd base has a start position of 2\n",
    "dna = \"ATGACGTACGTACGACTG\"\n",
    "m = re.search(r\"GA([ATGC]{3})AC([ATGC]{2})AC\", dna)\n",
    "print(\"start: \" + str(m.start()))\n",
    "print(\"end: \" + str(m.end()))"
   ]
  },
  {
   "cell_type": "code",
   "execution_count": 15,
   "metadata": {},
   "outputs": [
    {
     "name": "stdout",
     "output_type": "stream",
     "text": [
      "start: 2\n",
      "end: 13\n",
      "group one start: 4\n",
      "group one end: 7\n",
      "group two start: 9\n",
      "group two end: 11\n"
     ]
    }
   ],
   "source": [
    "# we can get the start and end postion of individual grops by supplying a number as the argument to start and end\n",
    "dna = \"ATGACGTACGTACGACTG\"\n",
    "m = re.search(r\"GA([ATGC]{3})AC([ATGC]{2})AC\", dna)\n",
    "print(\"start: \" + str(m.start()))\n",
    "print(\"end: \" + str(m.end()))\n",
    "print(\"group one start: \" + str(m.start(1)))\n",
    "print(\"group one end: \" + str(m.end(1)))\n",
    "print(\"group two start: \" + str(m.start(2)))\n",
    "print(\"group two end: \" + str(m.end(2)))"
   ]
  },
  {
   "cell_type": "code",
   "execution_count": 16,
   "metadata": {},
   "outputs": [
    {
     "name": "stdout",
     "output_type": "stream",
     "text": [
      "['ACT', 'GCAT', 'GCTACGT', 'ACGAT', 'CGA', 'TCG']\n"
     ]
    }
   ],
   "source": [
    "#Splitting a string using a regular expression\n",
    "# extract all runs of contigous unambigous bases\n",
    "dna = \"ACTNGCATRGCTACGTYACGATSCGAWTCG\"\n",
    "runs = re.split(r\"[^ATGC]\", dna)\n",
    "print(runs)"
   ]
  },
  {
   "cell_type": "code",
   "execution_count": 17,
   "metadata": {},
   "outputs": [
    {
     "name": "stdout",
     "output_type": "stream",
     "text": [
      "['ATTATAT', 'AAATTATA']\n"
     ]
    }
   ],
   "source": [
    "#Finding multiple matches\n",
    "#re.findall - list of all matches of a pettern in a string\n",
    "dna = \"ACTGCATTATATCGTACGAAATTATACGCGCG\"\n",
    "runs = re.findall(r\"[AT]{4,100}\", dna)\n",
    "print(runs)"
   ]
  },
  {
   "cell_type": "code",
   "execution_count": 18,
   "metadata": {},
   "outputs": [
    {
     "name": "stdout",
     "output_type": "stream",
     "text": [
      "AT rich region from 5 to 12\n",
      "AT rich region from 18 to 26\n"
     ]
    }
   ],
   "source": [
    "# above the findall method is not a match object- it is a list of stroings\n",
    "# to do more complexx actions, use the finditer method, which returns a sequence of match objects\n",
    "# we need to return the value in a loop\n",
    "na = \"ACTGCATTATATCGTACGAAATTATACGCGCG\"\n",
    "runs = re.finditer(r\"[AT]{3,100}\", dna)\n",
    "for match in runs:\n",
    "    run_start = match.start()\n",
    "    run_end = match.end()\n",
    "    print(\"AT rich region from \" + str(run_start) + \" to \" + str(run_end))"
   ]
  },
  {
   "cell_type": "code",
   "execution_count": null,
   "metadata": {},
   "outputs": [],
   "source": []
  }
 ],
 "metadata": {
  "kernelspec": {
   "display_name": "Python 3",
   "language": "python",
   "name": "python3"
  },
  "language_info": {
   "codemirror_mode": {
    "name": "ipython",
    "version": 2
   },
   "file_extension": ".py",
   "mimetype": "text/x-python",
   "name": "python",
   "nbconvert_exporter": "python",
   "pygments_lexer": "ipython2",
   "version": "2.7.14"
  }
 },
 "nbformat": 4,
 "nbformat_minor": 2
}
