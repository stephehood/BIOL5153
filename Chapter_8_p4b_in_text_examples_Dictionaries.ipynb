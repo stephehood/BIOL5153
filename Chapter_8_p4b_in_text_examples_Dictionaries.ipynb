{
 "cells": [
  {
   "cell_type": "code",
   "execution_count": 2,
   "metadata": {},
   "outputs": [
    {
     "name": "stdout",
     "output_type": "stream",
     "text": [
      "count is 0 for AAA\n",
      "count is 1 for AAT\n",
      "count is 0 for AAG\n",
      "count is 0 for AAC\n",
      "count is 0 for ATA\n",
      "count is 0 for ATT\n",
      "count is 1 for ATG\n",
      "count is 2 for ATC\n",
      "count is 0 for AGA\n",
      "count is 0 for AGT\n",
      "count is 0 for AGG\n",
      "count is 0 for AGC\n",
      "count is 0 for ACA\n",
      "count is 0 for ACT\n",
      "count is 1 for ACG\n",
      "count is 0 for ACC\n",
      "count is 0 for TAA\n",
      "count is 0 for TAT\n",
      "count is 0 for TAG\n",
      "count is 1 for TAC\n",
      "count is 0 for TTA\n",
      "count is 0 for TTT\n",
      "count is 0 for TTG\n",
      "count is 0 for TTC\n",
      "count is 2 for TGA\n",
      "count is 0 for TGT\n",
      "count is 0 for TGG\n",
      "count is 0 for TGC\n",
      "count is 0 for TCA\n",
      "count is 0 for TCT\n",
      "count is 2 for TCG\n",
      "count is 0 for TCC\n",
      "count is 0 for GAA\n",
      "count is 2 for GAT\n",
      "count is 0 for GAG\n",
      "count is 0 for GAC\n",
      "count is 1 for GTA\n",
      "count is 0 for GTT\n",
      "count is 0 for GTG\n",
      "count is 0 for GTC\n",
      "count is 0 for GGA\n",
      "count is 0 for GGT\n",
      "count is 0 for GGG\n",
      "count is 0 for GGC\n",
      "count is 0 for GCA\n",
      "count is 1 for GCT\n",
      "count is 0 for GCG\n",
      "count is 0 for GCC\n",
      "count is 0 for CAA\n",
      "count is 0 for CAT\n",
      "count is 0 for CAG\n",
      "count is 0 for CAC\n",
      "count is 0 for CTA\n",
      "count is 0 for CTT\n",
      "count is 1 for CTG\n",
      "count is 0 for CTC\n",
      "count is 1 for CGA\n",
      "count is 1 for CGT\n",
      "count is 0 for CGG\n",
      "count is 1 for CGC\n",
      "count is 0 for CCA\n",
      "count is 0 for CCT\n",
      "count is 0 for CCG\n",
      "count is 0 for CCC\n",
      "[0, 1, 0, 0, 0, 0, 1, 2, 0, 0, 0, 0, 0, 0, 1, 0, 0, 0, 0, 1, 0, 0, 0, 0, 2, 0, 0, 0, 0, 0, 2, 0, 0, 2, 0, 0, 1, 0, 0, 0, 0, 0, 0, 0, 0, 1, 0, 0, 0, 0, 0, 0, 0, 0, 1, 0, 1, 1, 0, 1, 0, 0, 0, 0]\n"
     ]
    }
   ],
   "source": [
    "#Dictionaries\n",
    "#Storing paired data\n",
    "# store trinucleotides in a nested loop to generate all possible trinucleotides\n",
    "dna = \"AATGATCGATCGTACGCTGA\"\n",
    "all_counts = []\n",
    "for base1 in ['A', 'T', 'G', 'C']:\n",
    "    for base2 in ['A', 'T', 'G', 'C']:\n",
    "        for base3 in ['A', 'T', 'G', 'C']:\n",
    "            trinucleotide = base1 + base2 + base3\n",
    "            count = dna.count(trinucleotide)\n",
    "            print(\"count is \" + str(count) + \" for \" + trinucleotide)\n",
    "            all_counts.append(count)\n",
    "print(all_counts)"
   ]
  },
  {
   "cell_type": "code",
   "execution_count": 4,
   "metadata": {},
   "outputs": [
    {
     "name": "stdout",
     "output_type": "stream",
     "text": [
      "[0, 1, 0, 0, 0, 0, 1, 2, 0, 0, 0, 0, 0, 0, 1, 0, 0, 0, 0, 1, 0, 0, 0, 0, 2, 0, 0, 0, 0, 0, 2, 0, 0, 2, 0, 0, 1, 0, 0, 0, 0, 0, 0, 0, 0, 1, 0, 0, 0, 0, 0, 0, 0, 0, 1, 0, 1, 1, 0, 1, 0, 0, 0, 0]\n",
      "['AAA', 'AAT', 'AAG', 'AAC', 'ATA', 'ATT', 'ATG', 'ATC', 'AGA', 'AGT', 'AGG', 'AGC', 'ACA', 'ACT', 'ACG', 'ACC', 'TAA', 'TAT', 'TAG', 'TAC', 'TTA', 'TTT', 'TTG', 'TTC', 'TGA', 'TGT', 'TGG', 'TGC', 'TCA', 'TCT', 'TCG', 'TCC', 'GAA', 'GAT', 'GAG', 'GAC', 'GTA', 'GTT', 'GTG', 'GTC', 'GGA', 'GGT', 'GGG', 'GGC', 'GCA', 'GCT', 'GCG', 'GCC', 'CAA', 'CAT', 'CAG', 'CAC', 'CTA', 'CTT', 'CTG', 'CTC', 'CGA', 'CGT', 'CGG', 'CGC', 'CCA', 'CCT', 'CCG', 'CCC']\n"
     ]
    }
   ],
   "source": [
    "# the above code doesn't give us as much information as we need. We don't know which trinucleotide is which\n",
    "# we would have to know the number of the codon in the list\n",
    "# another trick we could use is to generate two list, one  of counts and one of trinucleotides themselves\n",
    "dna = \"AATGATCGATCGTACGCTGA\"\n",
    "all_trinucleotides = []\n",
    "all_counts = []\n",
    "for base1 in ['A', 'T', 'G', 'C']:\n",
    "    for base2 in ['A', 'T', 'G', 'C']:\n",
    "        for base3 in ['A', 'T', 'G', 'C']:\n",
    "            trinucleotide = base1 + base2 + base3\n",
    "            count = dna.count(trinucleotide)\n",
    "            all_trinucleotides.append(trinucleotide)\n",
    "            all_counts.append(count)\n",
    "print(all_counts)\n",
    "print(all_trinucleotides)\n",
    "\n",
    "# this generates a list of the same length plus one of the corresponding elements"
   ]
  },
  {
   "cell_type": "code",
   "execution_count": 5,
   "metadata": {},
   "outputs": [
    {
     "name": "stdout",
     "output_type": "stream",
     "text": [
      "count for TGA is 2\n"
     ]
    }
   ],
   "source": [
    "# the above loop allows us to look up the count for a given codon in a slightly more appealing way\n",
    "# we can look up the index of the codon in the 'all_trinucleotides' list and then get the count at the same index in the 'all_counts\" list\n",
    "i = all_trinucleotides.index('TGA')\n",
    "c = all_counts[i]\n",
    "print('count for TGA is ' + str(c))"
   ]
  },
  {
   "cell_type": "code",
   "execution_count": null,
   "metadata": {},
   "outputs": [],
   "source": [
    "# we need a way of storing pairs of data in a way that allows us to efficiently look it up\n"
   ]
  },
  {
   "cell_type": "code",
   "execution_count": 6,
   "metadata": {},
   "outputs": [],
   "source": [
    "# key-value pairs\n",
    "# words and their definitions - dictionaries (abbreviated to dict)"
   ]
  },
  {
   "cell_type": "code",
   "execution_count": 7,
   "metadata": {},
   "outputs": [
    {
     "name": "stdout",
     "output_type": "stream",
     "text": [
      "GC[ATGC]GC\n"
     ]
    }
   ],
   "source": [
    "# Creating a dictionary\n",
    "# syntax for creating a dictionary is similar to making a list but we used {} rather than []\n",
    "# Each pair of data consist of a key and a value and is called an 'item'\n",
    "enzymes = { 'EcoRI':r'GAATTC', 'AvaII':r'GG(A|T)CC','BisI':'GC[ATGC]GC'}\n",
    "# in the above case, the keys and values are both strings. Splitting the dictionary definiton over sever lines makes it easier to read\n",
    "enzymes = { \n",
    "    'EcoRI' : r'GAATTC', \n",
    "    'AvaII' : r'GG(A|T)CC', \n",
    "    'BisI'  : r'GC[ATGC]GC' \n",
    "}\n",
    "print(enzymes['BisI'])\n",
    "# name of dictionary = enzymes, key = BisI"
   ]
  },
  {
   "cell_type": "code",
   "execution_count": 8,
   "metadata": {},
   "outputs": [],
   "source": [
    "# the only type of data we can use as keys are strings and numbers\n",
    "# values can be whatever type of data we like\n",
    "# keys must be unique - we can't store multiple values in the same key\n",
    "# often we create an empty dictionary and then add key/value pairs to it\n",
    "enzymes = {}\n",
    "enzymes['EcoRI'] = r'GAATTC'\n",
    "enzymes['AvaII'] = r'GG(A|T)CC'\n",
    "enzymes['BisI'] = r'GC[ATGC]GC' "
   ]
  },
  {
   "cell_type": "code",
   "execution_count": 9,
   "metadata": {},
   "outputs": [
    {
     "data": {
      "text/plain": [
       "'GAATTC'"
      ]
     },
     "execution_count": 9,
     "metadata": {},
     "output_type": "execute_result"
    }
   ],
   "source": [
    "# we can delete a key from a dictionary using the 'pop' method\n",
    "# 'pop' returns the value and deletes the key at the same time\n",
    "enzymes = { \n",
    "    'EcoRI' : r'GAATTC', \n",
    "    'AvaII' : r'GG(A|T)CC', \n",
    "    'BisI'  : r'GC[ATGC]GC' \n",
    "}\n",
    "# remove the EcoRI enzyme from the dict\n",
    "enzymes.pop('EcoRI')"
   ]
  },
  {
   "cell_type": "code",
   "execution_count": 12,
   "metadata": {},
   "outputs": [
    {
     "name": "stdout",
     "output_type": "stream",
     "text": [
      "{'ACC': 0, 'ATG': 1, 'AAG': 0, 'AAA': 0, 'ATC': 2, 'AAC': 0, 'ATA': 0, 'AGG': 0, 'CCT': 0, 'CTC': 0, 'AGC': 0, 'ACA': 0, 'AGA': 0, 'CAT': 0, 'AAT': 1, 'ATT': 0, 'CTG': 1, 'CTA': 0, 'ACT': 0, 'CAC': 0, 'ACG': 1, 'CAA': 0, 'AGT': 0, 'CAG': 0, 'CCG': 0, 'CCC': 0, 'CTT': 0, 'TAT': 0, 'GGT': 0, 'TGT': 0, 'CGA': 1, 'CCA': 0, 'TCT': 0, 'GAT': 2, 'CGG': 0, 'TTT': 0, 'TGC': 0, 'GGG': 0, 'TAG': 0, 'GGA': 0, 'TAA': 0, 'GGC': 0, 'TAC': 1, 'TTC': 0, 'TCG': 2, 'TTA': 0, 'TTG': 0, 'TCC': 0, 'GAA': 0, 'TGG': 0, 'GCA': 0, 'GTA': 1, 'GCC': 0, 'GTC': 0, 'GCG': 0, 'GTG': 0, 'GAG': 0, 'GTT': 0, 'GCT': 1, 'TGA': 2, 'GAC': 0, 'CGT': 1, 'TCA': 0, 'CGC': 1}\n",
      "2\n"
     ]
    }
   ],
   "source": [
    "# trinucleotides in a dictionary\n",
    "dna = \"AATGATCGATCGTACGCTGA\"\n",
    "counts = {}\n",
    "for base1 in ['A', 'T', 'G', 'C']:\n",
    "    for base2 in ['A', 'T', 'G', 'C']:\n",
    "        for base3 in ['A', 'T', 'G', 'C']:\n",
    "            trinucleotide = base1 + base2 + base3\n",
    "            count = dna.count(trinucleotide)\n",
    "            counts[trinucleotide] = count\n",
    "print(counts)\n",
    "# here we have the trinucleotide and their counts as the same variable\n",
    "print(counts['TGA'])"
   ]
  },
  {
   "cell_type": "code",
   "execution_count": 14,
   "metadata": {},
   "outputs": [
    {
     "name": "stdout",
     "output_type": "stream",
     "text": [
      "{'ATG': 1, 'ACG': 1, 'ATC': 2, 'GTA': 1, 'CTG': 1, 'CGC': 1, 'GAT': 2, 'CGA': 1, 'AAT': 1, 'TGA': 2, 'GCT': 1, 'TAC': 1, 'TCG': 2, 'CGT': 1}\n"
     ]
    }
   ],
   "source": [
    "# no longer have to worry about 'memorizing' the order of the counts or maintaing two seperate list\n",
    "# how can we avoid having to count all the 0 counts\n",
    "# add an 'if' statement that ensures we only store a count if it is greater than zero\n",
    "dna = \"AATGATCGATCGTACGCTGA\"\n",
    "counts = {}\n",
    "for base1 in ['A', 'T', 'G', 'C']:\n",
    "    for base2 in ['A', 'T', 'G', 'C']:\n",
    "        for base3 in ['A', 'T', 'G', 'C']:\n",
    "            trinucleotide = base1 + base2 + base3\n",
    "            count = dna.count(trinucleotide)\n",
    "            if count > 0:\n",
    "                counts[trinucleotide] = count\n",
    "print(counts)"
   ]
  },
  {
   "cell_type": "code",
   "execution_count": 16,
   "metadata": {},
   "outputs": [
    {
     "name": "stdout",
     "output_type": "stream",
     "text": [
      "2\n"
     ]
    },
    {
     "ename": "KeyError",
     "evalue": "'AAA'",
     "output_type": "error",
     "traceback": [
      "\u001b[0;31m---------------------------------------------------------------------------\u001b[0m",
      "\u001b[0;31mKeyError\u001b[0m                                  Traceback (most recent call last)",
      "\u001b[0;32m<ipython-input-16-18061feac3a1>\u001b[0m in \u001b[0;36m<module>\u001b[0;34m()\u001b[0m\n\u001b[1;32m      2\u001b[0m \u001b[0;32mprint\u001b[0m\u001b[0;34m(\u001b[0m\u001b[0mcounts\u001b[0m\u001b[0;34m[\u001b[0m\u001b[0;34m'TGA'\u001b[0m\u001b[0;34m]\u001b[0m\u001b[0;34m)\u001b[0m\u001b[0;34m\u001b[0m\u001b[0m\n\u001b[1;32m      3\u001b[0m \u001b[0;31m# when cound is zero, the trinucleotide doesn't appear as a key in the dictionary\u001b[0m\u001b[0;34m\u001b[0m\u001b[0;34m\u001b[0m\u001b[0m\n\u001b[0;32m----> 4\u001b[0;31m \u001b[0;32mprint\u001b[0m\u001b[0;34m(\u001b[0m\u001b[0mcounts\u001b[0m\u001b[0;34m[\u001b[0m\u001b[0;34m'AAA'\u001b[0m\u001b[0;34m]\u001b[0m\u001b[0;34m)\u001b[0m\u001b[0;34m\u001b[0m\u001b[0m\n\u001b[0m",
      "\u001b[0;31mKeyError\u001b[0m: 'AAA'"
     ]
    }
   ],
   "source": [
    "# new problem to deal with. Looking up the count for a given trinucleotide works fine when the count is positive\n",
    "print(counts['TGA'])\n",
    "# when cound is zero, the trinucleotide doesn't appear as a key in the dictionary\n",
    "print(counts['AAA'])\n",
    "# to fix the above KeyError, we can check for the existence of a key in a dictionary and only try to retrieve it once we know it exists \n"
   ]
  },
  {
   "cell_type": "code",
   "execution_count": 17,
   "metadata": {},
   "outputs": [],
   "source": [
    "if 'AAA' in counts:\n",
    "    print(counts('AAA'))"
   ]
  },
  {
   "cell_type": "code",
   "execution_count": 19,
   "metadata": {},
   "outputs": [
    {
     "name": "stdout",
     "output_type": "stream",
     "text": [
      "2\n",
      "2\n",
      "count for TGA is 2\n",
      "count for AAA is 0\n",
      "count for GTA is 1\n",
      "count for TTT is 0\n"
     ]
    }
   ],
   "source": [
    "# use the 'get' method \n",
    "print(counts['TGA'])\n",
    "print(counts.get('TGA'))\n",
    "# 'get' is really useful becasue it can take an optional second argument, which is the default value to be returned if the key isn't present in the dictionary\n",
    "# in the case of the trinucleotides, we can set the default value to zero\n",
    "print(\"count for TGA is \" + str(counts.get('TGA', 0)))\n",
    "print(\"count for AAA is \" + str(counts.get('AAA', 0)))\n",
    "print(\"count for GTA is \" + str(counts.get('GTA', 0)))\n",
    "print(\"count for TTT is \" + str(counts.get('TTT', 0)))"
   ]
  },
  {
   "cell_type": "code",
   "execution_count": 22,
   "metadata": {},
   "outputs": [
    {
     "name": "stdout",
     "output_type": "stream",
     "text": [
      "ATC\n",
      "TGA\n",
      "TCG\n",
      "GAT\n"
     ]
    }
   ],
   "source": [
    "# Iterating over a dictionary\n",
    "# Use a nested loop to print the values which appear twice\n",
    "for base1 in ['A', 'T', 'G', 'C']:\n",
    "    for base2 in ['A', 'T', 'G', 'C']:\n",
    "        for base3 in ['A', 'T', 'G', 'C']:\n",
    "            trinucleotide = base1 + base2 + base3\n",
    "            if counts.get(trinucleotide, 0) == 2:\n",
    "                print(trinucleotide)\n",
    "# however, although this method works, it is inefficient\n",
    "# a better approach would be to read the list of keys directly from the dictionary using the 'keys' method"
   ]
  },
  {
   "cell_type": "code",
   "execution_count": 24,
   "metadata": {},
   "outputs": [
    {
     "name": "stdout",
     "output_type": "stream",
     "text": [
      "['ATG', 'ACG', 'ATC', 'GTA', 'CTG', 'CGC', 'GAT', 'CGA', 'AAT', 'TGA', 'GCT', 'TAC', 'TCG', 'CGT']\n"
     ]
    }
   ],
   "source": [
    "#Iterating over keys\n",
    "print(counts.keys())\n",
    "# only includes values greater than zero\n"
   ]
  },
  {
   "cell_type": "code",
   "execution_count": 25,
   "metadata": {},
   "outputs": [
    {
     "name": "stdout",
     "output_type": "stream",
     "text": [
      "ATC\n",
      "GAT\n",
      "TGA\n",
      "TCG\n"
     ]
    }
   ],
   "source": [
    "# look for trinucleotides that appear twice\n",
    "for trinucleotide in counts.keys():\n",
    "    if counts.get(trinucleotide) == 2:\n",
    "        print(trinucleotide)"
   ]
  },
  {
   "cell_type": "code",
   "execution_count": 26,
   "metadata": {},
   "outputs": [
    {
     "name": "stdout",
     "output_type": "stream",
     "text": [
      "ATC\n",
      "GAT\n",
      "TCG\n",
      "TGA\n"
     ]
    }
   ],
   "source": [
    "# dictionaries are inherently unordered, which means that when we use the 'keys' method things may be in a different order than how we added them\n",
    "# lists howver, always maintain the same order!!\n",
    "# If we want to control the oder in whch keys are printed, we can use the sor 'sorted' method to sort the list before processing it\n",
    "for trinucleotide in sorted(counts.keys()):\n",
    "    if counts.get(trinucleotide) == 2:\n",
    "        print(trinucleotide)"
   ]
  },
  {
   "cell_type": "code",
   "execution_count": 31,
   "metadata": {},
   "outputs": [
    {
     "ename": "NameError",
     "evalue": "name 'my_dict' is not defined",
     "output_type": "error",
     "traceback": [
      "\u001b[0;31m---------------------------------------------------------------------------\u001b[0m",
      "\u001b[0;31mNameError\u001b[0m                                 Traceback (most recent call last)",
      "\u001b[0;32m<ipython-input-31-6ce797c00eee>\u001b[0m in \u001b[0;36m<module>\u001b[0;34m()\u001b[0m\n\u001b[1;32m      3\u001b[0m \u001b[0;31m# very common pattern when iterating over dictionaries\u001b[0m\u001b[0;34m\u001b[0m\u001b[0;34m\u001b[0m\u001b[0m\n\u001b[1;32m      4\u001b[0m \u001b[0;31m# rather than doing this:\u001b[0m\u001b[0;34m\u001b[0m\u001b[0;34m\u001b[0m\u001b[0m\n\u001b[0;32m----> 5\u001b[0;31m \u001b[0;32mfor\u001b[0m \u001b[0mkey\u001b[0m \u001b[0;32min\u001b[0m \u001b[0mmy_dict\u001b[0m\u001b[0;34m.\u001b[0m\u001b[0mkeys\u001b[0m\u001b[0;34m(\u001b[0m\u001b[0;34m)\u001b[0m\u001b[0;34m:\u001b[0m\u001b[0;34m\u001b[0m\u001b[0m\n\u001b[0m\u001b[1;32m      6\u001b[0m     \u001b[0mvalue\u001b[0m \u001b[0;34m=\u001b[0m \u001b[0mmy_dict\u001b[0m\u001b[0;34m.\u001b[0m\u001b[0mget\u001b[0m\u001b[0;34m(\u001b[0m\u001b[0mkey\u001b[0m\u001b[0;34m)\u001b[0m\u001b[0;34m\u001b[0m\u001b[0m\n\u001b[1;32m      7\u001b[0m \u001b[0;31m# do something with key and value\u001b[0m\u001b[0;34m\u001b[0m\u001b[0;34m\u001b[0m\u001b[0m\n",
      "\u001b[0;31mNameError\u001b[0m: name 'my_dict' is not defined"
     ]
    }
   ],
   "source": [
    "# Iterating over items\n",
    "# first thing we do inside the loop is to look up the value for the current key\n",
    "# very common pattern when iterating over dictionaries\n",
    "# rather than doing this:\n",
    "for key in my_dict.keys():\n",
    "    value = my_dict.get(key)\n",
    "# do something with key and value\n",
    "# we can use the 'items' method to iterate over pairs of data, rather than just keys\n",
    "for key, value in my_dict.items():\n",
    "# do something with key and value\n",
    "# 'items' method returns a list of pairs of values which is why we have to give 2 variable names at the start of the loop\n",
    "    for trinucleotide, count in counts.items():\n",
    "        if count == 2:\n",
    "            print(trinucleotide)\n"
   ]
  },
  {
   "cell_type": "code",
   "execution_count": null,
   "metadata": {},
   "outputs": [],
   "source": []
  }
 ],
 "metadata": {
  "kernelspec": {
   "display_name": "Python 3",
   "language": "python",
   "name": "python3"
  },
  "language_info": {
   "codemirror_mode": {
    "name": "ipython",
    "version": 2
   },
   "file_extension": ".py",
   "mimetype": "text/x-python",
   "name": "python",
   "nbconvert_exporter": "python",
   "pygments_lexer": "ipython2",
   "version": "2.7.14"
  }
 },
 "nbformat": 4,
 "nbformat_minor": 2
}
