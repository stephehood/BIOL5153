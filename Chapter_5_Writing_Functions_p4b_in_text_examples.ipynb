{
 "cells": [
  {
   "cell_type": "code",
   "execution_count": 10,
   "metadata": {},
   "outputs": [],
   "source": [
    "#write a program to calculate AT content of a DNA sequence\n",
    "#my_dna = \"ACTGATCGATTACGTATAGTATTTGCTATCATACATATATATCGATGCGTTCAT\" \n",
    "#length = len(my_dna) \n",
    "#a_count = my_dna.count('A') \n",
    "#t_count = my_dna.count('T') \n",
    "#at_content = (a_count + t_count) / length \n",
    "#print(\"AT content is \" + str(at_content)) "
   ]
  },
  {
   "cell_type": "code",
   "execution_count": 11,
   "metadata": {},
   "outputs": [],
   "source": [
    "#Defining a function\n",
    "#Before writing a function we need to figure out what our inputs and outputs are going to be\n",
    "def get_at_content(dna): \n",
    "    length = len(dna) \n",
    "    a_count = dna.count('A') \n",
    "    t_count = dna.count('T') \n",
    "    at_content = (a_count + t_count) / length \n",
    "    return at_content "
   ]
  },
  {
   "cell_type": "code",
   "execution_count": 12,
   "metadata": {},
   "outputs": [
    {
     "data": {
      "text/plain": [
       "0"
      ]
     },
     "execution_count": 12,
     "metadata": {},
     "output_type": "execute_result"
    }
   ],
   "source": [
    "# call the function\n",
    "get_at_content(\"ATGCATCGATCG\")"
   ]
  },
  {
   "cell_type": "code",
   "execution_count": 4,
   "metadata": {},
   "outputs": [
    {
     "data": {
      "text/plain": [
       "0"
      ]
     },
     "execution_count": 4,
     "metadata": {},
     "output_type": "execute_result"
    }
   ],
   "source": [
    "def get_at_content(dna):\n",
    "    length = len(dna)\n",
    "    a_count = dna.count('A')\n",
    "    t_count = dna.count('T')\n",
    "    at_content = (a_count + t_count) / length\n",
    "    return at_content\n",
    "get_at_content(\"ATATCGCGATCGATCGAT\")"
   ]
  },
  {
   "cell_type": "code",
   "execution_count": 5,
   "metadata": {},
   "outputs": [
    {
     "name": "stdout",
     "output_type": "stream",
     "text": [
      "AT content is 0\n"
     ]
    }
   ],
   "source": [
    "#store the results of a function as a variable\n",
    "at_content = get_at_content(\"ATCGATCGACTAGC\")\n",
    "# or use it directly\n",
    "print(\"AT content is \" + str(get_at_content(\"ATGCTACGATCG\")))"
   ]
  },
  {
   "cell_type": "code",
   "execution_count": 6,
   "metadata": {},
   "outputs": [],
   "source": [
    "# the argument 'dna' does not hold any particular value when the funtion is defined\n",
    "# 'dna' can hold a different value each time we call the function\n"
   ]
  },
  {
   "cell_type": "code",
   "execution_count": 13,
   "metadata": {},
   "outputs": [
    {
     "name": "stdout",
     "output_type": "stream",
     "text": [
      "16\n"
     ]
    }
   ],
   "source": [
    "# any variables we create as part of a function only exist inside the function\n",
    "def get_at_content(dna): \n",
    "    length = len(dna) \n",
    "    a_count = dna.count('A') \n",
    "    t_count = dna.count('T') \n",
    "    at_content = (a_count + t_count) / length \n",
    "    return at_content \n",
    "\n",
    "print(a_count)\n",
    "# should be getting an error message here since 'a_count' is defined only within the function "
   ]
  },
  {
   "cell_type": "code",
   "execution_count": 16,
   "metadata": {},
   "outputs": [
    {
     "name": "stdout",
     "output_type": "stream",
     "text": [
      "0\n",
      "0\n",
      "0\n"
     ]
    }
   ],
   "source": [
    "# calling and improving our functions\n",
    "# store the reults as a variable before printing (lines 8+9)\n",
    "# Print the results direcrlt (lines 10+11)\n",
    "def get_at_content(dna):\n",
    "    length = len(dna)\n",
    "    a_count = dna.count('A')\n",
    "    t_count = dna.count('T')\n",
    "    at_content = (a_count + t_count) / length\n",
    "    return at_content\n",
    "\n",
    "my_at_content = get_at_content(\"ATGTAGTAGATCAGCTAGCATCGA\")\n",
    "print(str(my_at_content))\n",
    "print(get_at_content(\"aactgattactagatact\"))\n",
    "print(get_at_content(\"ATGTAGTAGATCAGCTAGCATCGA\"))"
   ]
  },
  {
   "cell_type": "code",
   "execution_count": 18,
   "metadata": {},
   "outputs": [
    {
     "name": "stdout",
     "output_type": "stream",
     "text": [
      "0.0\n",
      "0.0\n",
      "0.0\n"
     ]
    }
   ],
   "source": [
    "# fix problems with output\n",
    "# add a rounding step to limit the number of sig figs, 'round' function\n",
    "# fix lower case problem by converting the input sequence to upper case before calculating\n",
    "\n",
    "def get_at_content(dna):\n",
    "    length = len(dna)\n",
    "    a_count = dna.upper().count('A')\n",
    "    t_count = dna.upper().count('T')\n",
    "    at_content = (a_count + t_count) / length\n",
    "    return round(at_content, 2)\n",
    "\n",
    "my_at_content = get_at_content(\"ATGTAGTAGATCAGCTAGCATCGA\")\n",
    "print(str(my_at_content))\n",
    "print(get_at_content(\"ATGTAGTAGATCAGCTAGCATCGA\"))\n",
    "print(get_at_content(\"atgcatcgatcga\"))\n"
   ]
  },
  {
   "cell_type": "code",
   "execution_count": 20,
   "metadata": {},
   "outputs": [
    {
     "name": "stdout",
     "output_type": "stream",
     "text": [
      "0.0\n",
      "0.0\n",
      "0.0\n"
     ]
    }
   ],
   "source": [
    "#add a second arguement, sig fig\n",
    "def get_at_content(dna, sig_figs):\n",
    "    length = len(dna)\n",
    "    a_count = dna.upper().count('A')\n",
    "    t_count= dna.upper().count('T')\n",
    "    at_content = (a_count + t_count) / length\n",
    "    return round(at_content, sig_figs)\n",
    "\n",
    "test_dna= \"ATGCTAG\"\n",
    "print(get_at_content(test_dna, 1))\n",
    "print(get_at_content(test_dna, 2))\n",
    "print(get_at_content(test_dna, 3))"
   ]
  },
  {
   "cell_type": "code",
   "execution_count": 21,
   "metadata": {},
   "outputs": [],
   "source": [
    "# encapsulation with funtions\n",
    "# divide up a complex program into little bits wihc we can work on independently\n"
   ]
  },
  {
   "cell_type": "code",
   "execution_count": 22,
   "metadata": {},
   "outputs": [],
   "source": [
    "# functions don't always have to take an argument\n",
    "def get_a_number():\n",
    "    return 44"
   ]
  },
  {
   "cell_type": "code",
   "execution_count": 23,
   "metadata": {},
   "outputs": [],
   "source": [
    "def get_at_content():\n",
    "    dna = \"ATGC\"\n",
    "    length = len(dna)\n",
    "    a_count = dna.upper().count('A')\n",
    "    t_count = dna.upper().count('T')\n",
    "    at_content = (a_count + t_count) / length\n",
    "    return round(at_content, 2)"
   ]
  },
  {
   "cell_type": "code",
   "execution_count": 24,
   "metadata": {},
   "outputs": [
    {
     "name": "stdout",
     "output_type": "stream",
     "text": [
      "0.0\n"
     ]
    }
   ],
   "source": [
    "def get_at_content(): \n",
    "    length = len(dna) \n",
    "    a_count = dna.upper().count('A') \n",
    "    t_count = dna.upper().count('T') \n",
    "    at_content = (a_count + t_count) / length \n",
    "    return round(at_content, 2) \n",
    "\n",
    "dna = \"ACTGATCGATCG\"\n",
    "print(get_at_content())\n",
    "# setting the variable value breaks the encapsulation we worked to achieve\n",
    "#the function now only works if the variable called 'dna' is set in the bit of the code where the function is called\n"
   ]
  },
  {
   "cell_type": "code",
   "execution_count": 26,
   "metadata": {},
   "outputs": [],
   "source": [
    "# functions don't always have to return a value\n",
    "def print_at_content(dna):\n",
    "    length = len(dna)\n",
    "    a_count = dna.upper().count('A')\n",
    "    t_count = dna.upper().count('T')\n",
    "    at_content =(a_count + t_count) / length\n",
    "    print(str(round(at_content, 2)))\n",
    "# this approach is less flexible, this function can only print at_content\n",
    "# the key to designing flexible functions is to recognize that the job calculate and print the AT content is actually 2 seperate jobs\n",
    "# Write functions that only do ONE job\n",
    "# write a more complicated code by using simple functions as building blocks"
   ]
  },
  {
   "cell_type": "code",
   "execution_count": 29,
   "metadata": {},
   "outputs": [
    {
     "ename": "SyntaxError",
     "evalue": "non-keyword arg after keyword arg (<ipython-input-29-b5bf8a13a294>, line 16)",
     "output_type": "error",
     "traceback": [
      "\u001b[0;36m  File \u001b[0;32m\"<ipython-input-29-b5bf8a13a294>\"\u001b[0;36m, line \u001b[0;32m16\u001b[0m\n\u001b[0;31m    get_at_content(dna=\"ATCGATC\", 2)\u001b[0m\n\u001b[0;31mSyntaxError\u001b[0m\u001b[0;31m:\u001b[0m non-keyword arg after keyword arg\n"
     ]
    }
   ],
   "source": [
    "# Functions can be called with named arguments\n",
    "# feature of Python called 'keyword arguments' which allows us to call functions in a slightly different way\n",
    "# instead of of giving a list of arguments in parantheses as follows:\n",
    "get_at_content(\"AGTCGATC\" , 2)\n",
    "#we can supply a list of argument variable names and values joined by equals signs:\n",
    "get_at_content(dna=\"ATGCTAGCT\", sig_figs=2)\n",
    "# the style of funtion writing has many advantages as it doesn't rely on the order of the arguements\n",
    "get_at_content(dna=\"ATGCTAGCT\", sig_figs=2)\n",
    "get_at_content(sig_figs=2, dna=\"ATGCTAGCT\")\n",
    "# we can mix and match the two styles of calling, all the following are identical\n",
    "get_at_content(dna=\"ATGCTAGCT\", sig_figs=2)\n",
    "get_at_content(sig_figs=2, dna=\"ATGCTAGCT\")\n",
    "get_at_content(dna=\"ATGCTAGCT\", sig_figs=2)\n",
    "get_at_content(\"ATGCTAGCT\" , 2)\n",
    "# cannot start off with a keyword and then switch back, that will cause an error\n",
    "get_at_content(dna=\"ATCGATC\", 2)\n",
    "               \n",
    "               "
   ]
  },
  {
   "cell_type": "code",
   "execution_count": 30,
   "metadata": {},
   "outputs": [
    {
     "ename": "SyntaxError",
     "evalue": "EOL while scanning string literal (<ipython-input-30-233c1b1c372f>, line 12)",
     "output_type": "error",
     "traceback": [
      "\u001b[0;36m  File \u001b[0;32m\"<ipython-input-30-233c1b1c372f>\"\u001b[0;36m, line \u001b[0;32m12\u001b[0m\n\u001b[0;31m    get_at_content(\"ATCGTGACTCG, 3)\u001b[0m\n\u001b[0m                                  ^\u001b[0m\n\u001b[0;31mSyntaxError\u001b[0m\u001b[0;31m:\u001b[0m EOL while scanning string literal\n"
     ]
    }
   ],
   "source": [
    "#function arguments can have defaults\n",
    "# specify default value in the first line of the function definition\n",
    "def get_at_content(dna, sig_figs=2): \n",
    "    length = len(dna) \n",
    "    a_count = dna.upper().count('A') \n",
    "    t_count = dna.upper().count('T') \n",
    "    at_content = (a_count + t_count) / length \n",
    "    return round(at_content, sig_figs)\n",
    " \n",
    "# now we have the best of both worlds, if the function is called with 2 arguments, it will use the number of sig figs specified. If it called with one, it will use the defualt calue of 2 sig figs. \n",
    "get_at_content(\"ATCGTGACTCG\")\n",
    "get_at_content(\"ATCGTGACTCG, 3)\n",
    "get_at_content(\"ATCGTGACTCG\", sig_figs=4)\n",
    "# the function takes care of filling in the default value for sig figs for the 1st function call when none was supplied"
   ]
  },
  {
   "cell_type": "markdown",
   "metadata": {},
   "source": [
    "#testing functions\n",
    "# run code against input and compare the results to what we know to be correct. \n",
    "# assert"
   ]
  },
  {
   "cell_type": "code",
   "execution_count": 31,
   "metadata": {},
   "outputs": [
    {
     "ename": "TypeError",
     "evalue": "get_at_content() takes no arguments (1 given)",
     "output_type": "error",
     "traceback": [
      "\u001b[0;31m---------------------------------------------------------------------------\u001b[0m",
      "\u001b[0;31mTypeError\u001b[0m                                 Traceback (most recent call last)",
      "\u001b[0;32m<ipython-input-31-b6f75d906ffb>\u001b[0m in \u001b[0;36m<module>\u001b[0;34m()\u001b[0m\n\u001b[0;32m----> 1\u001b[0;31m \u001b[0;32massert\u001b[0m \u001b[0mget_at_content\u001b[0m\u001b[0;34m(\u001b[0m\u001b[0;34m\"ATGC\"\u001b[0m\u001b[0;34m)\u001b[0m \u001b[0;34m==\u001b[0m \u001b[0;36m0.5\u001b[0m\u001b[0;34m\u001b[0m\u001b[0m\n\u001b[0m",
      "\u001b[0;31mTypeError\u001b[0m: get_at_content() takes no arguments (1 given)"
     ]
    }
   ],
   "source": [
    "assert get_at_content(\"ATGC\") == 0.5"
   ]
  },
  {
   "cell_type": "code",
   "execution_count": 32,
   "metadata": {},
   "outputs": [
    {
     "ename": "TypeError",
     "evalue": "get_at_content() takes no arguments (1 given)",
     "output_type": "error",
     "traceback": [
      "\u001b[0;31m---------------------------------------------------------------------------\u001b[0m",
      "\u001b[0;31mTypeError\u001b[0m                                 Traceback (most recent call last)",
      "\u001b[0;32m<ipython-input-32-387d0ea5d7fa>\u001b[0m in \u001b[0;36m<module>\u001b[0;34m()\u001b[0m\n\u001b[1;32m      1\u001b[0m \u001b[0;31m# if the answer isn't == 0.5 then we will get the message \"Assertion error\"\u001b[0m\u001b[0;34m\u001b[0m\u001b[0;34m\u001b[0m\u001b[0m\n\u001b[0;32m----> 2\u001b[0;31m \u001b[0;32massert\u001b[0m \u001b[0mget_at_content\u001b[0m\u001b[0;34m(\u001b[0m\u001b[0;34m\"ATGCNNNNNNNNNN\"\u001b[0m\u001b[0;34m)\u001b[0m \u001b[0;34m==\u001b[0m \u001b[0;36m0.5\u001b[0m\u001b[0;34m\u001b[0m\u001b[0m\n\u001b[0m\u001b[1;32m      3\u001b[0m \u001b[0;32mdef\u001b[0m \u001b[0mget_at_content\u001b[0m\u001b[0;34m(\u001b[0m\u001b[0mdna\u001b[0m\u001b[0;34m,\u001b[0m \u001b[0msig_figs\u001b[0m\u001b[0;34m=\u001b[0m\u001b[0;36m2\u001b[0m\u001b[0;34m)\u001b[0m\u001b[0;34m:\u001b[0m\u001b[0;34m\u001b[0m\u001b[0m\n\u001b[1;32m      4\u001b[0m     \u001b[0mdna\u001b[0m \u001b[0;34m=\u001b[0m \u001b[0mdna\u001b[0m\u001b[0;34m.\u001b[0m\u001b[0mreplace\u001b[0m\u001b[0;34m(\u001b[0m\u001b[0;34m'N'\u001b[0m\u001b[0;34m,\u001b[0m \u001b[0;34m''\u001b[0m\u001b[0;34m)\u001b[0m\u001b[0;34m\u001b[0m\u001b[0m\n\u001b[1;32m      5\u001b[0m     \u001b[0mlength\u001b[0m \u001b[0;34m=\u001b[0m \u001b[0mlen\u001b[0m\u001b[0;34m(\u001b[0m\u001b[0mdna\u001b[0m\u001b[0;34m)\u001b[0m\u001b[0;34m\u001b[0m\u001b[0m\n",
      "\u001b[0;31mTypeError\u001b[0m: get_at_content() takes no arguments (1 given)"
     ]
    }
   ],
   "source": [
    "# if the answer isn't == 0.5 then we will get the message \"Assertion error\"\n",
    "assert get_at_content(\"ATGCNNNNNNNNNN\") == 0.5\n",
    "def get_at_content(dna, sig_figs=2): \n",
    "    dna = dna.replace('N', '') \n",
    "    length = len(dna) \n",
    "    a_count = dna.upper().count('A') \n",
    "    t_count = dna.upper().count('T') \n",
    "    at_content = (a_count + t_count) / length \n",
    "    return round(at_content, sig_figs) "
   ]
  },
  {
   "cell_type": "code",
   "execution_count": 33,
   "metadata": {},
   "outputs": [
    {
     "ename": "TypeError",
     "evalue": "get_at_content() takes no arguments (1 given)",
     "output_type": "error",
     "traceback": [
      "\u001b[0;31m---------------------------------------------------------------------------\u001b[0m",
      "\u001b[0;31mTypeError\u001b[0m                                 Traceback (most recent call last)",
      "\u001b[0;32m<ipython-input-33-aa7e668d45f6>\u001b[0m in \u001b[0;36m<module>\u001b[0;34m()\u001b[0m\n\u001b[1;32m      1\u001b[0m \u001b[0;31m# it's common to group a collection of assertions for a particular function together to test for the correct behavior on different types of input\u001b[0m\u001b[0;34m\u001b[0m\u001b[0;34m\u001b[0m\u001b[0m\n\u001b[1;32m      2\u001b[0m \u001b[0;34m\u001b[0m\u001b[0m\n\u001b[0;32m----> 3\u001b[0;31m \u001b[0;32massert\u001b[0m \u001b[0mget_at_content\u001b[0m\u001b[0;34m(\u001b[0m\u001b[0;34m\"A\"\u001b[0m\u001b[0;34m)\u001b[0m \u001b[0;34m==\u001b[0m \u001b[0;36m1\u001b[0m\u001b[0;34m\u001b[0m\u001b[0m\n\u001b[0m\u001b[1;32m      4\u001b[0m \u001b[0;32massert\u001b[0m \u001b[0mget_at_content\u001b[0m\u001b[0;34m(\u001b[0m\u001b[0;34m\"G\"\u001b[0m\u001b[0;34m)\u001b[0m \u001b[0;34m==\u001b[0m \u001b[0;36m0\u001b[0m\u001b[0;34m\u001b[0m\u001b[0m\n\u001b[1;32m      5\u001b[0m \u001b[0;32massert\u001b[0m \u001b[0mget_at_content\u001b[0m\u001b[0;34m(\u001b[0m\u001b[0;34m\"ATGC\"\u001b[0m\u001b[0;34m)\u001b[0m \u001b[0;34m==\u001b[0m \u001b[0;36m0.5\u001b[0m\u001b[0;34m\u001b[0m\u001b[0m\n",
      "\u001b[0;31mTypeError\u001b[0m: get_at_content() takes no arguments (1 given)"
     ]
    }
   ],
   "source": [
    "# it's common to group a collection of assertions for a particular function together to test for the correct behavior on different types of input \n",
    "\n",
    "assert get_at_content(\"A\") == 1\n",
    "assert get_at_content(\"G\") == 0\n",
    "assert get_at_content(\"ATGC\") == 0.5\n",
    "assert get_at_content(\"AGG\") == 0.33\n",
    "assert get_at_content(\"AGG\", 1) == 0.3\n",
    "assert get_at_content(\"AGG\", 5) == 0.3333"
   ]
  },
  {
   "cell_type": "code",
   "execution_count": null,
   "metadata": {},
   "outputs": [],
   "source": [
    "# recap\n",
    "# don't write functions without arguements or return values\n",
    "# use assertions to test functions and cath errors \n"
   ]
  }
 ],
 "metadata": {
  "kernelspec": {
   "display_name": "Python 3",
   "language": "python",
   "name": "python3"
  },
  "language_info": {
   "codemirror_mode": {
    "name": "ipython",
    "version": 2
   },
   "file_extension": ".py",
   "mimetype": "text/x-python",
   "name": "python",
   "nbconvert_exporter": "python",
   "pygments_lexer": "ipython2",
   "version": "2.7.14"
  }
 },
 "nbformat": 4,
 "nbformat_minor": 2
}
