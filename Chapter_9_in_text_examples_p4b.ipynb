{
 "cells": [
  {
   "cell_type": "code",
   "execution_count": 1,
   "metadata": {},
   "outputs": [],
   "source": [
    "# Chapter 9: Files, programs, and user input\n",
    "# File contents and manipulation\n",
    "# file manipulation in a language like Python is tricky because the code we write needs to funtion the same on different operating systems\n",
    "# os = operating system and shutil is short for SHellUTILities"
   ]
  },
  {
   "cell_type": "code",
   "execution_count": 2,
   "metadata": {},
   "outputs": [],
   "source": [
    "# A note on the code examples\n",
    "# A 'path' is a short bit of text that tells you the location of a file in the file system\n"
   ]
  },
  {
   "cell_type": "code",
   "execution_count": 3,
   "metadata": {},
   "outputs": [],
   "source": [
    "# Basic file manipulation\n",
    "# to rename an existing file, we simply import the os module, then use the os 'rename' funtion\n",
    "# the os .rename function takes two arguements, both strings.\n",
    "import os\n",
    "os.rename('old.txt', 'new.txt')"
   ]
  },
  {
   "cell_type": "code",
   "execution_count": 6,
   "metadata": {},
   "outputs": [],
   "source": [
    "#rename file in same path\n",
    "os.rename(\"/home/steph/Desktop/BIOL5153/oldd.txt\", '/home/steph/Desktop/BIOL5153/neww.txt)')"
   ]
  },
  {
   "cell_type": "code",
   "execution_count": 11,
   "metadata": {},
   "outputs": [],
   "source": [
    "#move a file\n",
    "os.rename(\"/home/steph/Desktop/BIOL5153/new.txt\", \"/home/steph/Desktop/new.txt\")"
   ]
  },
  {
   "cell_type": "code",
   "execution_count": 17,
   "metadata": {},
   "outputs": [],
   "source": [
    "#move and rename a file\n",
    "os.rename(\"/home/steph/Desktop/BIOL5153/file1.txt\", \"/home/steph/Desktop/practice.txt\")"
   ]
  },
  {
   "cell_type": "code",
   "execution_count": 19,
   "metadata": {},
   "outputs": [],
   "source": [
    "# rename works on folders as well as files \n",
    "os.rename(\"/home/steph/Desktop/BIOL5153/old_folder\", \"/home/steph/Desktop/BIOL5153/new_folder\")"
   ]
  },
  {
   "cell_type": "code",
   "execution_count": 21,
   "metadata": {},
   "outputs": [],
   "source": [
    "# if we try to move a file to a folder that doens't exist, we will get an error\n",
    "# to make a new folder, we can use the function os.mkdir\n",
    "os.mkdir(\"/home/steph/Desktop/BIOL5153/practice_folder\")"
   ]
  },
  {
   "cell_type": "code",
   "execution_count": 31,
   "metadata": {},
   "outputs": [
    {
     "ename": "OSError",
     "evalue": "[Errno 2] No such file or directory: '/home/steph/Desktop/BIOL5153/a/long/path/with/lots/of/folders'",
     "output_type": "error",
     "traceback": [
      "\u001b[0;31m---------------------------------------------------------------------------\u001b[0m",
      "\u001b[0;31mOSError\u001b[0m                                   Traceback (most recent call last)",
      "\u001b[0;32m<ipython-input-31-0c3ef16cc625>\u001b[0m in \u001b[0;36m<module>\u001b[0;34m()\u001b[0m\n\u001b[1;32m      1\u001b[0m \u001b[0;31m#If we need to creat a bunch of directories all in one go, we can use the os.mkdirs function\u001b[0m\u001b[0;34m\u001b[0m\u001b[0;34m\u001b[0m\u001b[0m\n\u001b[0;32m----> 2\u001b[0;31m \u001b[0mos\u001b[0m\u001b[0;34m.\u001b[0m\u001b[0mmkdir\u001b[0m\u001b[0;34m(\u001b[0m\u001b[0;34m\"/home/steph/Desktop/BIOL5153/a/long/path/with/lots/of/folders\"\u001b[0m\u001b[0;34m)\u001b[0m\u001b[0;34m\u001b[0m\u001b[0m\n\u001b[0m",
      "\u001b[0;31mOSError\u001b[0m: [Errno 2] No such file or directory: '/home/steph/Desktop/BIOL5153/a/long/path/with/lots/of/folders'"
     ]
    }
   ],
   "source": [
    "#If we need to creat a bunch of directories all in one go, we can use the os.mkdirs function\n",
    "os.mkdir(\"/home/steph/Desktop/BIOL5153/a/long/path/with/lots/of/folders\")"
   ]
  },
  {
   "cell_type": "code",
   "execution_count": 33,
   "metadata": {},
   "outputs": [],
   "source": [
    "#write notes about issues to a file \n",
    "#os.mkdir(\"/home/steph/Desktop/BIOL5153/unresolved_issues_python\")\n",
    "os.rename(\"out.txt\", \"unresolved_issues.txt\")"
   ]
  },
  {
   "cell_type": "code",
   "execution_count": 35,
   "metadata": {},
   "outputs": [],
   "source": [
    "# to copy a file or folder we use the 'shutil' module. We can copy a single file with 'shutil.copy'\n",
    "import shutil\n",
    "shutil.copy(\"/home/steph/Desktop/BIOL5153/original.txt\", \"/home/steph/Desktop/BIOL5153/copy.txt\")"
   ]
  },
  {
   "cell_type": "code",
   "execution_count": 36,
   "metadata": {},
   "outputs": [],
   "source": [
    "shutil.copytree(\"/home/steph/Desktop/BIOL5153/original_folder\", \"/home/steph/Desktop/BIOL5153/copy_folder\")"
   ]
  },
  {
   "cell_type": "code",
   "execution_count": 40,
   "metadata": {},
   "outputs": [],
   "source": [
    "#test weather a file or folder exist\n",
    "if os.path.exists(\"home/steph/Desktop/BIOL5153/original.txt\"):\n",
    "    print(\"Here is your text man!!!\")"
   ]
  },
  {
   "cell_type": "code",
   "execution_count": 42,
   "metadata": {},
   "outputs": [],
   "source": [
    "#Deleting files and folders\n",
    "#there are different functions for deleting files, empty folders and non-empty folers\n",
    "# to delete a single file, use os.remove\n",
    "os.remove(\"/home/steph/Desktop/BIOL5153/unwanted_file.txt\")"
   ]
  },
  {
   "cell_type": "code",
   "execution_count": 43,
   "metadata": {},
   "outputs": [],
   "source": [
    "# to delete an empty folder, use os.rmdir:\n",
    "os.rmdir(\"/home/steph/Desktop/BIOL5153/empty\")"
   ]
  },
  {
   "cell_type": "code",
   "execution_count": 44,
   "metadata": {},
   "outputs": [],
   "source": [
    "# to delete a folder and all the files in it, use shutil.rmtree\n",
    "shutil.rmtree(\"/home/steph/Desktop/BIOL5153/full\")"
   ]
  },
  {
   "cell_type": "code",
   "execution_count": 45,
   "metadata": {},
   "outputs": [
    {
     "name": "stdout",
     "output_type": "stream",
     "text": [
      "one file name is unresolved_issues.txt\n",
      "one file name is copy_folder\n",
      "one file name is unresolved_issues_python\n",
      "one file name is Chapter_4_in_text_examples_p4b.ipynb\n",
      "one file name is README.md\n",
      "one file name is Chapter_2_in_text_practice_Python_for_biologist.ipynb\n",
      "one file name is python_for_biologists_exercises.zip\n",
      "one file name is practice_folder\n",
      "one file name is .ipynb_checkpoints\n",
      "one file name is new_folder\n",
      "one file name is CV_Stephanie_E_HOOD.md\n",
      "one file name is Chapter_3_in_text_examples_p4b.ipynb\n",
      "one file name is neww.txt)\n",
      "one file name is .git\n",
      "one file name is copy.txt\n",
      "one file name is Chapter_9_in_text_examples_p4b.ipynb\n",
      "one file name is dna.txt\n",
      "one file name is original_folder\n",
      "one file name is original.txt\n"
     ]
    }
   ],
   "source": [
    "# Lisiting folder contents\n",
    "# os.listdir function returns a list of files and folders\n",
    "# to get a list of contensts of the current working directory, use the string \".\" for the path\n",
    "for file_name in os.listdir(\".\"):\n",
    "    print(\"one file name is \" + file_name)"
   ]
  },
  {
   "cell_type": "code",
   "execution_count": 47,
   "metadata": {},
   "outputs": [
    {
     "name": "stdout",
     "output_type": "stream",
     "text": [
      "one file name is .gnupg\n",
      "one file name is .bashrc\n",
      "one file name is my_first_script\n",
      "one file name is f2.txt\n",
      "one file name is .cache\n",
      "one file name is TR-808.string\n",
      "one file name is my_first_python_script.py\n",
      "one file name is .bash_history\n",
      "one file name is .ipython\n",
      "one file name is .lesshst\n",
      "one file name is .ipynb_checkpoints\n",
      "one file name is .jupyter\n",
      "one file name is Class_Practice_031418.ipynb\n",
      "one file name is .bash_logout\n",
      "one file name is f3.txt\n",
      "one file name is examples.desktop\n",
      "one file name is hood_assn03.tgz\n",
      "one file name is Tr-808.string\n",
      "one file name is .local\n",
      "one file name is .gitconfig\n",
      "one file name is Music\n",
      "one file name is f1.txt\n",
      "one file name is nad\n",
      "one file name is .git\n",
      "one file name is snap\n",
      "one file name is Videos\n",
      "one file name is local\n",
      "one file name is .assignment_2_SEH.txt.swp\n",
      "one file name is razor-file.txt\n",
      "one file name is Downloads\n",
      "one file name is Desktop\n",
      "one file name is .nano\n",
      "one file name is .sudo_as_admin_successful\n",
      "one file name is Public\n",
      "one file name is assignment_2_SEH.txt\n",
      "one file name is .profile\n",
      "one file name is razor.txt\n",
      "one file name is Templates\n",
      "one file name is Pictures\n",
      "one file name is .ICEauthority\n",
      "one file name is Documents\n",
      "one file name is .bash_profile\n",
      "one file name is .config\n",
      "one file name is .mozilla\n",
      "one file name is .ssh\n"
     ]
    }
   ],
   "source": [
    "# to list the contensts of a different folder, we just give the path as an argument:\n",
    "for file_name in os.listdir(\"/home/steph\"):\n",
    "    print(\"one file name is \" + file_name)"
   ]
  },
  {
   "cell_type": "code",
   "execution_count": 48,
   "metadata": {},
   "outputs": [
    {
     "data": {
      "text/plain": [
       "0"
      ]
     },
     "execution_count": 48,
     "metadata": {},
     "output_type": "execute_result"
    }
   ],
   "source": [
    "# Running externanl programs\n",
    "# Running a program\n",
    "# the functions for running external programs reside in the 'subprocess' module\n",
    "# to run an external program, use the 'subprocess.call' function\n",
    "import subprocess\n",
    "subprocess.call(\"/bin/date\")\n"
   ]
  },
  {
   "cell_type": "code",
   "execution_count": 49,
   "metadata": {},
   "outputs": [
    {
     "data": {
      "text/plain": [
       "0"
      ]
     },
     "execution_count": 49,
     "metadata": {},
     "output_type": "execute_result"
    }
   ],
   "source": [
    "# if we want to supply command-line options to the external program then we just include them in the string, and set the optional 'shell' argument to 'True'\n",
    "# here we call the Linux 'date' program with options which cause it to just print the month\n",
    "subprocess.call(\"/bin/date +%B\", shell=True)"
   ]
  },
  {
   "cell_type": "code",
   "execution_count": 51,
   "metadata": {},
   "outputs": [
    {
     "ename": "CalledProcessError",
     "evalue": "Command '/bin/date +%B'' returned non-zero exit status 2",
     "output_type": "error",
     "traceback": [
      "\u001b[0;31m---------------------------------------------------------------------------\u001b[0m",
      "\u001b[0;31mCalledProcessError\u001b[0m                        Traceback (most recent call last)",
      "\u001b[0;32m<ipython-input-51-bb4fb5841a94>\u001b[0m in \u001b[0;36m<module>\u001b[0;34m()\u001b[0m\n\u001b[1;32m      1\u001b[0m \u001b[0;31m#Saving program output\u001b[0m\u001b[0;34m\u001b[0m\u001b[0;34m\u001b[0m\u001b[0m\n\u001b[1;32m      2\u001b[0m \u001b[0;31m#subprocess.check_output, which takes exactly the same arguements as subprocess.call:\u001b[0m\u001b[0;34m\u001b[0m\u001b[0;34m\u001b[0m\u001b[0m\n\u001b[0;32m----> 3\u001b[0;31m \u001b[0mcurrent_month\u001b[0m \u001b[0;34m=\u001b[0m \u001b[0msubprocess\u001b[0m\u001b[0;34m.\u001b[0m\u001b[0mcheck_output\u001b[0m\u001b[0;34m(\u001b[0m\u001b[0;34m\"/bin/date +%B'\"\u001b[0m\u001b[0;34m,\u001b[0m \u001b[0mshell\u001b[0m\u001b[0;34m=\u001b[0m\u001b[0mTrue\u001b[0m\u001b[0;34m)\u001b[0m\u001b[0;34m\u001b[0m\u001b[0m\n\u001b[0m",
      "\u001b[0;32m/usr/lib/python2.7/subprocess.pyc\u001b[0m in \u001b[0;36mcheck_output\u001b[0;34m(*popenargs, **kwargs)\u001b[0m\n\u001b[1;32m    217\u001b[0m         \u001b[0;32mif\u001b[0m \u001b[0mcmd\u001b[0m \u001b[0;32mis\u001b[0m \u001b[0mNone\u001b[0m\u001b[0;34m:\u001b[0m\u001b[0;34m\u001b[0m\u001b[0m\n\u001b[1;32m    218\u001b[0m             \u001b[0mcmd\u001b[0m \u001b[0;34m=\u001b[0m \u001b[0mpopenargs\u001b[0m\u001b[0;34m[\u001b[0m\u001b[0;36m0\u001b[0m\u001b[0;34m]\u001b[0m\u001b[0;34m\u001b[0m\u001b[0m\n\u001b[0;32m--> 219\u001b[0;31m         \u001b[0;32mraise\u001b[0m \u001b[0mCalledProcessError\u001b[0m\u001b[0;34m(\u001b[0m\u001b[0mretcode\u001b[0m\u001b[0;34m,\u001b[0m \u001b[0mcmd\u001b[0m\u001b[0;34m,\u001b[0m \u001b[0moutput\u001b[0m\u001b[0;34m=\u001b[0m\u001b[0moutput\u001b[0m\u001b[0;34m)\u001b[0m\u001b[0;34m\u001b[0m\u001b[0m\n\u001b[0m\u001b[1;32m    220\u001b[0m     \u001b[0;32mreturn\u001b[0m \u001b[0moutput\u001b[0m\u001b[0;34m\u001b[0m\u001b[0m\n\u001b[1;32m    221\u001b[0m \u001b[0;34m\u001b[0m\u001b[0m\n",
      "\u001b[0;31mCalledProcessError\u001b[0m: Command '/bin/date +%B'' returned non-zero exit status 2"
     ]
    }
   ],
   "source": [
    "#Saving program output\n",
    "#subprocess.check_output, which takes exactly the same arguements as subprocess.call:\n",
    "current_month = subprocess.check_output(\"/bin/date +%B'\", shell=True)"
   ]
  },
  {
   "cell_type": "code",
   "execution_count": 52,
   "metadata": {},
   "outputs": [],
   "source": [
    "# User input makes our programs more flexible \n",
    "dna = \"ATCG\"\n",
    "# when data is mixed with code in this manner, it is said to be 'hard-coded'\n"
   ]
  },
  {
   "cell_type": "code",
   "execution_count": 53,
   "metadata": {},
   "outputs": [
    {
     "name": "stdout",
     "output_type": "stream",
     "text": [
      "Enter the accession namehello\n"
     ]
    },
    {
     "ename": "NameError",
     "evalue": "name 'hello' is not defined",
     "output_type": "error",
     "traceback": [
      "\u001b[0;31m---------------------------------------------------------------------------\u001b[0m",
      "\u001b[0;31mNameError\u001b[0m                                 Traceback (most recent call last)",
      "\u001b[0;32m<ipython-input-53-afbc996e8d69>\u001b[0m in \u001b[0;36m<module>\u001b[0;34m()\u001b[0m\n\u001b[1;32m      2\u001b[0m \u001b[0;31m# to get interactive input from the user in the programs, we can use the 'input' function\u001b[0m\u001b[0;34m\u001b[0m\u001b[0;34m\u001b[0m\u001b[0m\n\u001b[1;32m      3\u001b[0m \u001b[0;31m# 'input' takea a single string argument, which is the prompt to be displated to the user, and returns the value typed in as a string\u001b[0m\u001b[0;34m\u001b[0m\u001b[0;34m\u001b[0m\u001b[0m\n\u001b[0;32m----> 4\u001b[0;31m \u001b[0maccession\u001b[0m \u001b[0;34m=\u001b[0m \u001b[0minput\u001b[0m\u001b[0;34m(\u001b[0m\u001b[0;34m\"Enter the accession name\"\u001b[0m\u001b[0;34m)\u001b[0m\u001b[0;34m\u001b[0m\u001b[0m\n\u001b[0m\u001b[1;32m      5\u001b[0m \u001b[0;31m# do something with the accession variable\u001b[0m\u001b[0;34m\u001b[0m\u001b[0;34m\u001b[0m\u001b[0m\n",
      "\u001b[0;32m/home/steph/.local/lib/python2.7/site-packages/ipykernel/ipkernel.pyc\u001b[0m in \u001b[0;36m<lambda>\u001b[0;34m(prompt)\u001b[0m\n\u001b[1;32m    174\u001b[0m             \u001b[0mself\u001b[0m\u001b[0;34m.\u001b[0m\u001b[0m_sys_eval_input\u001b[0m \u001b[0;34m=\u001b[0m \u001b[0mbuiltin_mod\u001b[0m\u001b[0;34m.\u001b[0m\u001b[0minput\u001b[0m\u001b[0;34m\u001b[0m\u001b[0m\n\u001b[1;32m    175\u001b[0m             \u001b[0mbuiltin_mod\u001b[0m\u001b[0;34m.\u001b[0m\u001b[0mraw_input\u001b[0m \u001b[0;34m=\u001b[0m \u001b[0mself\u001b[0m\u001b[0;34m.\u001b[0m\u001b[0mraw_input\u001b[0m\u001b[0;34m\u001b[0m\u001b[0m\n\u001b[0;32m--> 176\u001b[0;31m             \u001b[0mbuiltin_mod\u001b[0m\u001b[0;34m.\u001b[0m\u001b[0minput\u001b[0m \u001b[0;34m=\u001b[0m \u001b[0;32mlambda\u001b[0m \u001b[0mprompt\u001b[0m\u001b[0;34m=\u001b[0m\u001b[0;34m''\u001b[0m\u001b[0;34m:\u001b[0m \u001b[0meval\u001b[0m\u001b[0;34m(\u001b[0m\u001b[0mself\u001b[0m\u001b[0;34m.\u001b[0m\u001b[0mraw_input\u001b[0m\u001b[0;34m(\u001b[0m\u001b[0mprompt\u001b[0m\u001b[0;34m)\u001b[0m\u001b[0;34m)\u001b[0m\u001b[0;34m\u001b[0m\u001b[0m\n\u001b[0m\u001b[1;32m    177\u001b[0m         \u001b[0mself\u001b[0m\u001b[0;34m.\u001b[0m\u001b[0m_save_getpass\u001b[0m \u001b[0;34m=\u001b[0m \u001b[0mgetpass\u001b[0m\u001b[0;34m.\u001b[0m\u001b[0mgetpass\u001b[0m\u001b[0;34m\u001b[0m\u001b[0m\n\u001b[1;32m    178\u001b[0m         \u001b[0mgetpass\u001b[0m\u001b[0;34m.\u001b[0m\u001b[0mgetpass\u001b[0m \u001b[0;34m=\u001b[0m \u001b[0mself\u001b[0m\u001b[0;34m.\u001b[0m\u001b[0mgetpass\u001b[0m\u001b[0;34m\u001b[0m\u001b[0m\n",
      "\u001b[0;32m/home/steph/.local/lib/python2.7/site-packages/ipykernel/ipkernel.pyc\u001b[0m in \u001b[0;36m<module>\u001b[0;34m()\u001b[0m\n",
      "\u001b[0;31mNameError\u001b[0m: name 'hello' is not defined"
     ]
    }
   ],
   "source": [
    "# interactive user input\n",
    "# to get interactive input from the user in the programs, we can use the 'input' function\n",
    "# 'input' takea a single string argument, which is the prompt to be displated to the user, and returns the value typed in as a string\n",
    "accession = input(\"Enter the accession name\")\n",
    "# do something with the accession variable"
   ]
  },
  {
   "cell_type": "code",
   "execution_count": null,
   "metadata": {},
   "outputs": [],
   "source": [
    "accession = input(\"Enter the accession name\")\n"
   ]
  },
  {
   "cell_type": "code",
   "execution_count": null,
   "metadata": {},
   "outputs": [],
   "source": [
    "# the input function waits for a user to type in a string and press enter\n",
    "# when using the 'input' function there are two situations in particular we want to avoid\n",
    "# 1 long-running program that requires some user input, but doesn't make this clear\n",
    "# 2 program runs for a long time without asking for input"
   ]
  },
  {
   "cell_type": "code",
   "execution_count": null,
   "metadata": {},
   "outputs": [],
   "source": [
    "# command line arguments \n",
    "# command line arguements are strings that you type on the command line after the name of a program you want to run\n",
    "my program one two three"
   ]
  },
  {
   "cell_type": "code",
   "execution_count": null,
   "metadata": {},
   "outputs": [],
   "source": [
    "# in the above code, one two and three are the command line options \n",
    "# to sue command line arguments in our Python scripts, we import the sys module\n",
    "# we can then access the command line arguments by using the special list sys.argv.\n",
    "import sys\n",
    "print(sys.argv)"
   ]
  },
  {
   "cell_type": "code",
   "execution_count": null,
   "metadata": {},
   "outputs": [],
   "source": [
    "# note that the first element of sys.argv is always the name of the program itself\n",
    "# example python myprogram.py one two three\n"
   ]
  }
 ],
 "metadata": {
  "kernelspec": {
   "display_name": "Python 3",
   "language": "python",
   "name": "python3"
  },
  "language_info": {
   "codemirror_mode": {
    "name": "ipython",
    "version": 2
   },
   "file_extension": ".py",
   "mimetype": "text/x-python",
   "name": "python",
   "nbconvert_exporter": "python",
   "pygments_lexer": "ipython2",
   "version": "2.7.14"
  }
 },
 "nbformat": 4,
 "nbformat_minor": 2
}
