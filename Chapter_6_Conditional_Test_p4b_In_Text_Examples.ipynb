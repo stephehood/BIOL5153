{
 "cells": [
  {
   "cell_type": "code",
   "execution_count": 1,
   "metadata": {},
   "outputs": [
    {
     "name": "stdout",
     "output_type": "stream",
     "text": [
      "False\n",
      "False\n",
      "True\n",
      "False\n",
      "True\n",
      "True\n",
      "False\n",
      "True\n",
      "False\n",
      "True\n"
     ]
    }
   ],
   "source": [
    "#Chapter 6 Conditional Tests\n",
    "#Conditions, True and False\n",
    "print(3 == 5)\n",
    "print(3 > 5)\n",
    "print(3 <=5)\n",
    "print(len(\"ATGC\") > 5)\n",
    "print(\"GAATTC\".count(\"T\") > 1)\n",
    "print(\"ATGCTT\".startswith(\"ATG\"))\n",
    "print(\"ATGCTT\".endswith(\"TTT\"))\n",
    "print(\"ATGCTT\".isupper())\n",
    "print(\"ATGCTT\".islower())\n",
    "print(\"V\" in [\"V\", \"W\", \"L\"])"
   ]
  },
  {
   "cell_type": "code",
   "execution_count": 2,
   "metadata": {},
   "outputs": [
    {
     "name": "stdout",
     "output_type": "stream",
     "text": [
      "True\n",
      "False\n"
     ]
    }
   ],
   "source": [
    "# what at is actually being printed? We are printing special built in values\n",
    "print(True)\n",
    "print(False)"
   ]
  },
  {
   "cell_type": "code",
   "execution_count": 3,
   "metadata": {},
   "outputs": [
    {
     "ename": "NameError",
     "evalue": "name 'Hello' is not defined",
     "output_type": "error",
     "traceback": [
      "\u001b[0;31m---------------------------------------------------------------------------\u001b[0m",
      "\u001b[0;31mNameError\u001b[0m                                 Traceback (most recent call last)",
      "\u001b[0;32m<ipython-input-3-85bf5114fa6b>\u001b[0m in \u001b[0;36m<module>\u001b[0;34m()\u001b[0m\n\u001b[0;32m----> 1\u001b[0;31m \u001b[0;32mprint\u001b[0m\u001b[0;34m(\u001b[0m\u001b[0mHello\u001b[0m\u001b[0;34m)\u001b[0m\u001b[0;34m\u001b[0m\u001b[0m\n\u001b[0m",
      "\u001b[0;31mNameError\u001b[0m: name 'Hello' is not defined"
     ]
    }
   ],
   "source": [
    "print(Hello)"
   ]
  },
  {
   "cell_type": "code",
   "execution_count": 4,
   "metadata": {},
   "outputs": [],
   "source": [
    "# p4b page 123 has a list of conditional commands \n",
    "# Many data types provide methods that return True or False values \n"
   ]
  },
  {
   "cell_type": "code",
   "execution_count": 6,
   "metadata": {},
   "outputs": [
    {
     "name": "stdout",
     "output_type": "stream",
     "text": [
      "gene is highly expressed\n"
     ]
    }
   ],
   "source": [
    "#If statements\n",
    "expression_level = 125\n",
    "if expression_level > 100:\n",
    "    print(\"gene is highly expressed\")"
   ]
  },
  {
   "cell_type": "code",
   "execution_count": 9,
   "metadata": {},
   "outputs": [
    {
     "name": "stdout",
     "output_type": "stream",
     "text": [
      "ab56\n",
      "ay93\n",
      "ap97\n"
     ]
    }
   ],
   "source": [
    "accs = ['ab56', 'bh84', 'hv76', 'ay93', 'ap97', 'bd72']\n",
    "for accession in accs:\n",
    "    if accession.startswith('a'):\n",
    "        print(accession)"
   ]
  },
  {
   "cell_type": "code",
   "execution_count": 11,
   "metadata": {},
   "outputs": [
    {
     "name": "stdout",
     "output_type": "stream",
     "text": [
      "gene is highly expressed\n"
     ]
    }
   ],
   "source": [
    "#else statements\n",
    "#if/else is a lot like either/or\n",
    "expression_level = 125\n",
    "if expression_level > 100:\n",
    "    print(\"gene is highly expressed\")\n",
    "else:\n",
    "    print(\"gene is lowly expressed\")"
   ]
  },
  {
   "cell_type": "code",
   "execution_count": 13,
   "metadata": {},
   "outputs": [],
   "source": [
    "# else statements don't have to have any conditions of their own\n",
    "# executes when the if statement is not executed\n",
    "file1 = open(\"one.txt\", \"w\")\n",
    "file2 = open(\"two.txt\", \"w\")\n",
    "accs = ['ab56', 'bh84', 'hv76', 'ay93', 'ap97', 'bd72']\n",
    "for accession in accs:\n",
    "    if accession.startswith('a'):\n",
    "        file1.write(accession + \"\\n\")\n",
    "    else:\n",
    "        file2.write(accession + \"\\n\")"
   ]
  },
  {
   "cell_type": "code",
   "execution_count": 14,
   "metadata": {},
   "outputs": [],
   "source": [
    "#elif statements\n",
    "#comparing more than 2 conditions\n",
    "file1 = open(\"one.txt\", \"w\")\n",
    "file2 = open(\"two.txt\", \"w\")\n",
    "file3 = open(\"three.txt\", \"w\")\n",
    "accs = ['ab56', 'bh84', 'hv76', 'ay93', 'ap97', 'bd72']\n",
    "for accession in accs:\n",
    "    if accession.startswith('a'):\n",
    "        file1.write(accession + \"\\n\")\n",
    "    else:\n",
    "        if accession.startswith('b'):\n",
    "            file2.write(accession + \"\\n\")\n",
    "        else:\n",
    "            file3.write(accession + \"\\n\")"
   ]
  },
  {
   "cell_type": "code",
   "execution_count": 15,
   "metadata": {},
   "outputs": [],
   "source": [
    "# elif statement merges together 'else' and 'if' and allows us to rewrite the above example in a more elegant way\n",
    "file1 = open(\"one.txt\", \"w\")\n",
    "file2 = open(\"two.txt\", \"w\")\n",
    "file3 = open(\"three.txt\", \"w\")\n",
    "accs = ['ab56', 'bh84', 'hv76', 'ay93', 'ap97', 'bd72']\n",
    "for accession in accs:\n",
    "    if accession.startswith('a'):\n",
    "        file1.write(accession + \"\\n\")\n",
    "    elif accession.startswith('b'):\n",
    "        file2.write(accession + \"\\n\")\n",
    "    else:\n",
    "        file3.write(accession + \"\\n\")"
   ]
  },
  {
   "cell_type": "code",
   "execution_count": 16,
   "metadata": {},
   "outputs": [
    {
     "ename": "NameError",
     "evalue": "name 'file6' is not defined",
     "output_type": "error",
     "traceback": [
      "\u001b[0;31m---------------------------------------------------------------------------\u001b[0m",
      "\u001b[0;31mNameError\u001b[0m                                 Traceback (most recent call last)",
      "\u001b[0;32m<ipython-input-16-d5254df71f9a>\u001b[0m in \u001b[0;36m<module>\u001b[0;34m()\u001b[0m\n\u001b[1;32m     11\u001b[0m         \u001b[0mfile5\u001b[0m\u001b[0;34m.\u001b[0m\u001b[0mwrite\u001b[0m\u001b[0;34m(\u001b[0m\u001b[0maccession\u001b[0m \u001b[0;34m+\u001b[0m \u001b[0;34m\"\\n\"\u001b[0m\u001b[0;34m)\u001b[0m\u001b[0;34m\u001b[0m\u001b[0m\n\u001b[1;32m     12\u001b[0m     \u001b[0;32melse\u001b[0m\u001b[0;34m:\u001b[0m\u001b[0;34m\u001b[0m\u001b[0m\n\u001b[0;32m---> 13\u001b[0;31m         \u001b[0mfile6\u001b[0m\u001b[0;34m.\u001b[0m\u001b[0mwrite\u001b[0m\u001b[0;34m(\u001b[0m\u001b[0maccession\u001b[0m \u001b[0;34m+\u001b[0m \u001b[0;34m\"\\n\"\u001b[0m\u001b[0;34m)\u001b[0m\u001b[0;34m\u001b[0m\u001b[0m\n\u001b[0m",
      "\u001b[0;31mNameError\u001b[0m: name 'file6' is not defined"
     ]
    }
   ],
   "source": [
    "for accession in accs:\n",
    "    if accession.startswith('a'):\n",
    "        file1.write(accession + \"\\n\")\n",
    "    elif accession.startswith('b'):\n",
    "        file2.write(accession + \"\\n\")\n",
    "    elif accession.startswith('c'):\n",
    "        file3.write(accession + \"\\n\")\n",
    "    elif accession.startswith('d'):\n",
    "        file4.write(accession + \"\\n\")\n",
    "    elif accession.startswith('e'):\n",
    "        file5.write(accession + \"\\n\")\n",
    "    else:\n",
    "        file6.write(accession + \"\\n\")"
   ]
  },
  {
   "cell_type": "code",
   "execution_count": 1,
   "metadata": {},
   "outputs": [
    {
     "name": "stdout",
     "output_type": "stream",
     "text": [
      "0\n",
      "1\n",
      "2\n",
      "3\n",
      "4\n",
      "5\n",
      "6\n",
      "7\n",
      "8\n",
      "9\n"
     ]
    }
   ],
   "source": [
    "#while loops\n",
    "# use conditions to determine when to exit a loop\n",
    "# a while loop runs until some condition is met\n",
    "count = 0\n",
    "while count <10:\n",
    "        print(count)\n",
    "        count = count+1"
   ]
  },
  {
   "cell_type": "code",
   "execution_count": 2,
   "metadata": {},
   "outputs": [
    {
     "name": "stdout",
     "output_type": "stream",
     "text": [
      "ay93\n"
     ]
    }
   ],
   "source": [
    "#Building up complex conditions\n",
    "#Express a condition that is made up of several parts \n",
    "accs = ['ab56', 'bh84', 'hv76', 'ay93', 'ap97', 'bd72']\n",
    "for accession in accs:\n",
    "    if accession.startswith('a'):\n",
    "        if accession.endswith('3'):\n",
    "            print(accession)"
   ]
  },
  {
   "cell_type": "code",
   "execution_count": 3,
   "metadata": {},
   "outputs": [
    {
     "name": "stdout",
     "output_type": "stream",
     "text": [
      "ay93\n"
     ]
    }
   ],
   "source": [
    "accs = ['ab56', 'bh84', 'hv76', 'ay93', 'ap97', 'bd72']\n",
    "for accession in accs:\n",
    "    if accession.startswith('a') and accession.endswith('3'):\n",
    "        print(accession)"
   ]
  },
  {
   "cell_type": "code",
   "execution_count": 4,
   "metadata": {},
   "outputs": [
    {
     "name": "stdout",
     "output_type": "stream",
     "text": [
      "ab56\n",
      "bh84\n",
      "ay93\n",
      "ap97\n",
      "bd72\n"
     ]
    }
   ],
   "source": [
    "accs = ['ab56', 'bh84', 'hv76', 'ay93', 'ap97', 'bd72']\n",
    "for accession in accs:\n",
    "    if accession.startswith('a') or accession.startswith('b'):\n",
    "        print(accession)"
   ]
  },
  {
   "cell_type": "code",
   "execution_count": 5,
   "metadata": {},
   "outputs": [
    {
     "name": "stdout",
     "output_type": "stream",
     "text": [
      "ab56\n",
      "bh84\n",
      "ay93\n",
      "ap97\n"
     ]
    }
   ],
   "source": [
    "accs = ['ab56', 'bh84', 'hv76', 'ay93', 'ap97', 'bd72']\n",
    "for accession in accs:\n",
    "    if accession.startswith('a') or accession.startswith('b') and accession.endswith('4'):\n",
    "        print(accession)"
   ]
  },
  {
   "cell_type": "code",
   "execution_count": 6,
   "metadata": {},
   "outputs": [
    {
     "name": "stdout",
     "output_type": "stream",
     "text": [
      "ay93\n",
      "ap97\n"
     ]
    }
   ],
   "source": [
    "accs = ['ab56', 'bh84', 'hv76', 'ay93', 'ap97', 'bd72']\n",
    "for accession in accs:\n",
    "    if accession.startswith('a') and not accession.endswith('6'):\n",
    "        print(accession)"
   ]
  },
  {
   "cell_type": "code",
   "execution_count": 7,
   "metadata": {},
   "outputs": [],
   "source": [
    "# 'and', 'or' and 'not' are known as boolean operators "
   ]
  },
  {
   "cell_type": "code",
   "execution_count": 10,
   "metadata": {},
   "outputs": [
    {
     "name": "stdout",
     "output_type": "stream",
     "text": [
      "False\n",
      "False\n"
     ]
    }
   ],
   "source": [
    "#Writing true/false functions\n",
    "#write a function that can be used in a condition\n",
    "def is_at_rich(dna): \n",
    "    length = len(dna) \n",
    "    a_count = dna.upper().count('A') \n",
    "    t_count = dna.upper().count('T') \n",
    "    at_content = (a_count + t_count) / length \n",
    "    if at_content > 0.65:\n",
    "        return True\n",
    "    else:\n",
    "        return False\n",
    "    \n",
    "print(is_at_rich(\"ATTATCTACTA\"))\n",
    "print(is_at_rich(\"CGGCAGCGCT\"))"
   ]
  },
  {
   "cell_type": "code",
   "execution_count": 13,
   "metadata": {},
   "outputs": [
    {
     "ename": "IndentationError",
     "evalue": "expected an indented block (<ipython-input-13-ab6d1aca007a>, line 3)",
     "output_type": "error",
     "traceback": [
      "\u001b[0;36m  File \u001b[0;32m\"<ipython-input-13-ab6d1aca007a>\"\u001b[0;36m, line \u001b[0;32m3\u001b[0m\n\u001b[0;31m    # do something with the sequence\u001b[0m\n\u001b[0m                                    ^\u001b[0m\n\u001b[0;31mIndentationError\u001b[0m\u001b[0;31m:\u001b[0m expected an indented block\n"
     ]
    }
   ],
   "source": [
    "# use the above in a function with an 'if' statement\n",
    "if is_at_rich(my_dna):\n",
    "    # do something with the sequence"
   ]
  },
  {
   "cell_type": "code",
   "execution_count": 14,
   "metadata": {},
   "outputs": [],
   "source": [
    "def is_at_rich(dna): \n",
    "    length = len(dna) \n",
    "    a_count = dna.upper().count('A') \n",
    "    t_count = dna.upper().count('T') \n",
    "    at_content = (a_count + t_count) / length \n",
    "    return at_content > 0.65"
   ]
  },
  {
   "cell_type": "code",
   "execution_count": 15,
   "metadata": {},
   "outputs": [],
   "source": [
    "# this chapter dealt with two things: conditions, and the statements that use them\n",
    "# simple conditions can be joined together to make more complex ones \n",
    "# four tools that use conditions - if, else, elif, and while "
   ]
  },
  {
   "cell_type": "code",
   "execution_count": null,
   "metadata": {},
   "outputs": [],
   "source": []
  }
 ],
 "metadata": {
  "kernelspec": {
   "display_name": "Python 3",
   "language": "python",
   "name": "python3"
  },
  "language_info": {
   "codemirror_mode": {
    "name": "ipython",
    "version": 2
   },
   "file_extension": ".py",
   "mimetype": "text/x-python",
   "name": "python",
   "nbconvert_exporter": "python",
   "pygments_lexer": "ipython2",
   "version": "2.7.14"
  }
 },
 "nbformat": 4,
 "nbformat_minor": 2
}
