{
 "cells": [
  {
   "cell_type": "code",
   "execution_count": 1,
   "metadata": {},
   "outputs": [
    {
     "ename": "IOError",
     "evalue": "[Errno 2] No such file or directory: 'dna.txt'",
     "output_type": "error",
     "traceback": [
      "\u001b[0;31m---------------------------------------------------------------------------\u001b[0m",
      "\u001b[0;31mIOError\u001b[0m                                   Traceback (most recent call last)",
      "\u001b[0;32m<ipython-input-1-ae2173f28f9e>\u001b[0m in \u001b[0;36m<module>\u001b[0;34m()\u001b[0m\n\u001b[0;32m----> 1\u001b[0;31m \u001b[0mmy_file\u001b[0m\u001b[0;34m=\u001b[0m \u001b[0mopen\u001b[0m \u001b[0;34m(\u001b[0m\u001b[0;34m'dna.txt'\u001b[0m\u001b[0;34m)\u001b[0m\u001b[0;34m\u001b[0m\u001b[0m\n\u001b[0m",
      "\u001b[0;31mIOError\u001b[0m: [Errno 2] No such file or directory: 'dna.txt'"
     ]
    }
   ],
   "source": [
    "my_file= open ('dna.txt')"
   ]
  },
  {
   "cell_type": "code",
   "execution_count": 2,
   "metadata": {},
   "outputs": [
    {
     "ename": "IOError",
     "evalue": "[Errno 2] No such file or directory: 'dna.txt'",
     "output_type": "error",
     "traceback": [
      "\u001b[0;31m---------------------------------------------------------------------------\u001b[0m",
      "\u001b[0;31mIOError\u001b[0m                                   Traceback (most recent call last)",
      "\u001b[0;32m<ipython-input-2-ae2173f28f9e>\u001b[0m in \u001b[0;36m<module>\u001b[0;34m()\u001b[0m\n\u001b[0;32m----> 1\u001b[0;31m \u001b[0mmy_file\u001b[0m\u001b[0;34m=\u001b[0m \u001b[0mopen\u001b[0m \u001b[0;34m(\u001b[0m\u001b[0;34m'dna.txt'\u001b[0m\u001b[0;34m)\u001b[0m\u001b[0;34m\u001b[0m\u001b[0m\n\u001b[0m",
      "\u001b[0;31mIOError\u001b[0m: [Errno 2] No such file or directory: 'dna.txt'"
     ]
    }
   ],
   "source": [
    "my_file= open ('dna.txt')"
   ]
  },
  {
   "cell_type": "code",
   "execution_count": 1,
   "metadata": {},
   "outputs": [],
   "source": [
    "my_file= open ('dna.txt')"
   ]
  },
  {
   "cell_type": "code",
   "execution_count": 4,
   "metadata": {},
   "outputs": [],
   "source": [
    "#a file object is a file on the computer's hard drive"
   ]
  },
  {
   "cell_type": "code",
   "execution_count": 5,
   "metadata": {},
   "outputs": [
    {
     "name": "stdout",
     "output_type": "stream",
     "text": [
      "abcdefghijklmnopqrstuvwxyz\n",
      "1026\n"
     ]
    }
   ],
   "source": [
    "my_string= 'abcdefghijklmnopqrstuvwxyz'\n",
    "print (my_string)\n",
    "my_number = 26\n",
    "print (my_number + 1000)"
   ]
  },
  {
   "cell_type": "code",
   "execution_count": 8,
   "metadata": {},
   "outputs": [
    {
     "name": "stdout",
     "output_type": "stream",
     "text": [
      "ACTGTACGTGCACTGATC\n",
      "\n"
     ]
    }
   ],
   "source": [
    "# file type has a 'read' method with is able to read our file object. This will read the file object making it a string which can be convereted into a variable. \n",
    "my_file = open(\"dna.txt\")\n",
    "file_contents = (my_file.read())\n",
    "print (file_contents)"
   ]
  },
  {
   "cell_type": "code",
   "execution_count": 10,
   "metadata": {},
   "outputs": [],
   "source": [
    "my_file_name = \"dna.txt\"\n",
    "my_file = open(my_file_name)\n",
    "my_file_contents = my_file.read()\n",
    "#line 1, store dna.txt in the variabble my_file_name\n",
    "#line 2, use the variable my_file_name as the arguement to the open function and store the resulting file object in the variable my_file\n",
    "#line 3, cal lthe read method on the variable and stoe the resulting string in the variable my_file_contents\n",
    "#variable names are arbitrary and the computer doesn't care\n",
    "#example apple = \"dna.txt\" banana = open(apple) grape = banana.read()\n",
    "#the file name dna.txt is not arbitrary and it MUST match a file on the hard drive of the computer"
   ]
  },
  {
   "cell_type": "code",
   "execution_count": 11,
   "metadata": {},
   "outputs": [
    {
     "ename": "AttributeError",
     "evalue": "'str' object has no attribute 'read'",
     "output_type": "error",
     "traceback": [
      "\u001b[0;31m---------------------------------------------------------------------------\u001b[0m",
      "\u001b[0;31mAttributeError\u001b[0m                            Traceback (most recent call last)",
      "\u001b[0;32m<ipython-input-11-e0215545df1b>\u001b[0m in \u001b[0;36m<module>\u001b[0;34m()\u001b[0m\n\u001b[1;32m      1\u001b[0m \u001b[0mmy_file_name\u001b[0m\u001b[0;34m=\u001b[0m \u001b[0;34m\"dna.txt\"\u001b[0m\u001b[0;34m\u001b[0m\u001b[0m\n\u001b[0;32m----> 2\u001b[0;31m \u001b[0mmy_contents\u001b[0m \u001b[0;34m=\u001b[0m \u001b[0mmy_file_name\u001b[0m\u001b[0;34m.\u001b[0m\u001b[0mread\u001b[0m\u001b[0;34m(\u001b[0m\u001b[0;34m)\u001b[0m\u001b[0;34m\u001b[0m\u001b[0m\n\u001b[0m",
      "\u001b[0;31mAttributeError\u001b[0m: 'str' object has no attribute 'read'"
     ]
    }
   ],
   "source": [
    "my_file_name= \"dna.txt\"\n",
    "my_contents = my_file_name.read()\n",
    "#Python complains that we don't have a read method"
   ]
  },
  {
   "cell_type": "code",
   "execution_count": 12,
   "metadata": {},
   "outputs": [
    {
     "name": "stdout",
     "output_type": "stream",
     "text": [
      "<open file 'dna.txt', mode 'r' at 0x7f962cdd4810>\n"
     ]
    }
   ],
   "source": [
    "#another common error is to use the file object when we mean to use the file contents. If we try to prinr the file object, we will ger an odd-looking output\n",
    "my_file_fame = \"dna.txt\"\n",
    "my_file = open(my_file_name)\n",
    "print(my_file)"
   ]
  },
  {
   "cell_type": "code",
   "execution_count": 17,
   "metadata": {},
   "outputs": [
    {
     "name": "stdout",
     "output_type": "stream",
     "text": [
      "sequence is ACTGTACGTGCACTGATC\n",
      "and length is 19\n"
     ]
    }
   ],
   "source": [
    "#Dealing with newslines\n",
    "# open the file\n",
    "my_file = open ('dna.txt')\n",
    "# read the contents\n",
    "my_dna = my_file.read()\n",
    "# calculate the length\n",
    "dna_length = len(my_dna)\n",
    "# print the output\n",
    "print (\"sequence is \" +  my_dna + \"and length is \"  +  str(dna_length))"
   ]
  },
  {
   "cell_type": "code",
   "execution_count": 23,
   "metadata": {},
   "outputs": [
    {
     "name": "stdout",
     "output_type": "stream",
     "text": [
      "sequence is ACTGTACGTGCACTGATC and length is 18\n"
     ]
    }
   ],
   "source": [
    "# python has included a new line above. This is because the varibale my_dna has a new line character at the end of it.\n",
    "# rstrip takes one string argument which is the character that you want to remove. We want to remove the newline character (\\n)\n",
    "my_file= open(\"dna.txt\")\n",
    "my_file_contents = my_file.read()\n",
    "#remove the newline from the end of the file contents\n",
    "my_dna = my_file_contents.rstrip(\"\\n\")\n",
    "dna_length = len(my_dna) \n",
    "print(\"sequence is \" + my_dna  + \" and length is \" + str(dna_length))"
   ]
  },
  {
   "cell_type": "code",
   "execution_count": 24,
   "metadata": {},
   "outputs": [],
   "source": [
    "# in the c\"ode above, we read the file contents and then removed the newline over 2 steps\n",
    "my_file_contnets= my_file.read()\n",
    "my_dna = my_file_contents.rstrip(\"\\n\")\n",
    "# the more common way to read the contents and remove the newline is all at once\n",
    "my_dna = my_file.read().rstrip(\"\\n\")\n"
   ]
  },
  {
   "cell_type": "code",
   "execution_count": 25,
   "metadata": {},
   "outputs": [
    {
     "ename": "IOError",
     "evalue": "[Errno 2] No such file or directory: 'nonexistent.txt'",
     "output_type": "error",
     "traceback": [
      "\u001b[0;31m---------------------------------------------------------------------------\u001b[0m",
      "\u001b[0;31mIOError\u001b[0m                                   Traceback (most recent call last)",
      "\u001b[0;32m<ipython-input-25-fc30fe316630>\u001b[0m in \u001b[0;36m<module>\u001b[0;34m()\u001b[0m\n\u001b[1;32m      1\u001b[0m \u001b[0;31m#missing files - what happen if a file doesn't exist?\u001b[0m\u001b[0;34m\u001b[0m\u001b[0;34m\u001b[0m\u001b[0m\n\u001b[0;32m----> 2\u001b[0;31m \u001b[0mmy_file\u001b[0m \u001b[0;34m=\u001b[0m \u001b[0mopen\u001b[0m\u001b[0;34m(\u001b[0m\u001b[0;34m\"nonexistent.txt\"\u001b[0m\u001b[0;34m)\u001b[0m\u001b[0;34m\u001b[0m\u001b[0m\n\u001b[0m",
      "\u001b[0;31mIOError\u001b[0m: [Errno 2] No such file or directory: 'nonexistent.txt'"
     ]
    }
   ],
   "source": [
    "#missing files - what happen if a file doesn't exist?\n",
    "my_file = open(\"nonexistent.txt\")\n",
    "# Ideally, we want to check to see if a file exists BEFORE we try and open it"
   ]
  },
  {
   "cell_type": "code",
   "execution_count": 2,
   "metadata": {},
   "outputs": [],
   "source": [
    "# writing text to files \n",
    "# opening files for writing\n",
    "# it is possible to open a file and 'write' some data to it but we have to use the 'open' function differently\n",
    "# using the two argument version of the 'open' function, where the second arguement is a specially-formatted string describing what we want to do to the file.\n",
    "# 'r' for reading, 'w' for writing, 'a' for appending\n",
    "my_file = open(\"out.txt\",\"w\")\n",
    "my_file.write(\"Hello World\")"
   ]
  },
  {
   "cell_type": "code",
   "execution_count": 7,
   "metadata": {},
   "outputs": [],
   "source": [
    "# write \"abcdefg\"\n",
    "my_file.write(\"abc\"+\"defg\")\n",
    "# write \"11\"\n",
    "my_file.write(str(len(\"AGTCTCTGATA\")))\n",
    "# write \"TTGC\"\n",
    "my_file.write(\"ATGC\".replace(\"A\",\"T\"))\n",
    "# write \"atgc\"\n",
    "my_file.write (\"ATGC\".lower())\n",
    "# write contents of my_varibale\n",
    "my_variable= \"ATGAT\"\n",
    "my_file.write(my_variable)"
   ]
  },
  {
   "cell_type": "code",
   "execution_count": 8,
   "metadata": {},
   "outputs": [],
   "source": [
    "# Closing files\n",
    "my_file = open('out.txt', \"w\")\n",
    "my_file.write(\"helle world\")\n",
    "# remember to close the file\n",
    "my_file.close()"
   ]
  },
  {
   "cell_type": "code",
   "execution_count": 12,
   "metadata": {},
   "outputs": [
    {
     "ename": "IOError",
     "evalue": "[Errno 2] No such file or directory: '/~/Desktop/BIOL5153/out.txt'",
     "output_type": "error",
     "traceback": [
      "\u001b[0;31m---------------------------------------------------------------------------\u001b[0m",
      "\u001b[0;31mIOError\u001b[0m                                   Traceback (most recent call last)",
      "\u001b[0;32m<ipython-input-12-07d7cf0e762a>\u001b[0m in \u001b[0;36m<module>\u001b[0;34m()\u001b[0m\n\u001b[1;32m      4\u001b[0m \u001b[0;31m# file path in linux\u001b[0m\u001b[0;34m\u001b[0m\u001b[0;34m\u001b[0m\u001b[0m\n\u001b[1;32m      5\u001b[0m \u001b[0;31m#my_file = open(\"/home/martin/myfolder/myfile.txt\")\u001b[0m\u001b[0;34m\u001b[0m\u001b[0;34m\u001b[0m\u001b[0m\n\u001b[0;32m----> 6\u001b[0;31m \u001b[0mmy_file\u001b[0m \u001b[0;34m=\u001b[0m \u001b[0mopen\u001b[0m\u001b[0;34m(\u001b[0m\u001b[0;34m\"/~/Desktop/BIOL5153/out.txt\"\u001b[0m\u001b[0;34m)\u001b[0m\u001b[0;34m\u001b[0m\u001b[0m\n\u001b[0m",
      "\u001b[0;31mIOError\u001b[0m: [Errno 2] No such file or directory: '/~/Desktop/BIOL5153/out.txt'"
     ]
    }
   ],
   "source": [
    "# paths and folders\n",
    "# give a 'file path' as the argument rather than a 'file name'\n",
    "# the format of the file path will look different depending on the operating system\n",
    "# file path in linux\n",
    "#my_file = open(\"/home/martin/myfolder/myfile.txt\")\n",
    "my_file = open(\"/~/Desktop/BIOL5153/out.txt\")"
   ]
  },
  {
   "cell_type": "code",
   "execution_count": 13,
   "metadata": {},
   "outputs": [],
   "source": [
    "# recap\n",
    "# we must open a file before reading or writing \n"
   ]
  },
  {
   "cell_type": "code",
   "execution_count": null,
   "metadata": {},
   "outputs": [],
   "source": []
  }
 ],
 "metadata": {
  "kernelspec": {
   "display_name": "Python 3",
   "language": "python",
   "name": "python3"
  },
  "language_info": {
   "codemirror_mode": {
    "name": "ipython",
    "version": 2
   },
   "file_extension": ".py",
   "mimetype": "text/x-python",
   "name": "python",
   "nbconvert_exporter": "python",
   "pygments_lexer": "ipython2",
   "version": "2.7.14"
  }
 },
 "nbformat": 4,
 "nbformat_minor": 2
}
